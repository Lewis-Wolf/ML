{
 "cells": [
  {
   "cell_type": "code",
   "execution_count": 100,
   "id": "0f6cb631",
   "metadata": {
    "ExecuteTime": {
     "end_time": "2023-06-29T19:59:15.294203511Z",
     "start_time": "2023-06-29T19:59:15.182416810Z"
    }
   },
   "outputs": [],
   "source": [
    "import time\n",
    "import numpy as np\n",
    "import xgboost as xgb\n",
    "import pandas as pd\n",
    "import matplotlib.pyplot as plt\n",
    "import xgboost as xgb\n",
    "import sklearn \n",
    "import time\n",
    "\n",
    "#xgboost part of this notebook follows {https://github.com/k-woodruff/bdt-tutorial} quite closely. "
   ]
  },
  {
   "cell_type": "code",
   "execution_count": 50,
   "id": "6bfeeff9",
   "metadata": {
    "ExecuteTime": {
     "end_time": "2023-06-29T19:59:16.468231317Z",
     "start_time": "2023-06-29T19:59:16.300921716Z"
    }
   },
   "outputs": [
    {
     "name": "stdout",
     "output_type": "stream",
     "text": [
      "Number of mu+ events in data set is 456616\n",
      "Number of electron envents in data set is 303723\n"
     ]
    }
   ],
   "source": [
    "muon_df =pd.read_feather(\"muplus.feather\") #read in muon hdf to pandas dataframe\n",
    "print(f\"Number of mu+ events in data set is {len(muon_df)}\")\n",
    "\n",
    "elec_df = pd.read_feather(\"electrons_large.feather\")\n",
    "print(f\"Number of electron envents in data set is {len(elec_df)}\")"
   ]
  },
  {
   "cell_type": "code",
   "execution_count": 49,
   "id": "7db22a06",
   "metadata": {},
   "outputs": [
    {
     "name": "stdout",
     "output_type": "stream",
     "text": [
      "Number of total shuffled events: 579431\n",
      "Number of shuffled events for training: 400000\n",
      "Number of shuffled events for validation: 179431\n"
     ]
    },
    {
     "data": {
      "text/html": [
       "<div>\n",
       "<style scoped>\n",
       "    .dataframe tbody tr th:only-of-type {\n",
       "        vertical-align: middle;\n",
       "    }\n",
       "\n",
       "    .dataframe tbody tr th {\n",
       "        vertical-align: top;\n",
       "    }\n",
       "\n",
       "    .dataframe thead th {\n",
       "        text-align: right;\n",
       "    }\n",
       "</style>\n",
       "<table border=\"1\" class=\"dataframe\">\n",
       "  <thead>\n",
       "    <tr style=\"text-align: right;\">\n",
       "      <th></th>\n",
       "      <th>energy</th>\n",
       "      <th>energy_cor</th>\n",
       "      <th>x</th>\n",
       "      <th>y</th>\n",
       "      <th>x_cor</th>\n",
       "      <th>y_cor</th>\n",
       "      <th>nhits</th>\n",
       "      <th>seed_e</th>\n",
       "      <th>seed_ix</th>\n",
       "      <th>seed_iy</th>\n",
       "      <th>pdg_id</th>\n",
       "    </tr>\n",
       "  </thead>\n",
       "  <tbody>\n",
       "    <tr>\n",
       "      <th>90444</th>\n",
       "      <td>0.226996</td>\n",
       "      <td>0.318289</td>\n",
       "      <td>-137.453812</td>\n",
       "      <td>-28.416494</td>\n",
       "      <td>-142.671082</td>\n",
       "      <td>-26.494062</td>\n",
       "      <td>2</td>\n",
       "      <td>0.193887</td>\n",
       "      <td>-14</td>\n",
       "      <td>-1</td>\n",
       "      <td>11</td>\n",
       "    </tr>\n",
       "    <tr>\n",
       "      <th>117903</th>\n",
       "      <td>2.078756</td>\n",
       "      <td>2.630933</td>\n",
       "      <td>176.723480</td>\n",
       "      <td>-28.409124</td>\n",
       "      <td>180.675705</td>\n",
       "      <td>-26.376453</td>\n",
       "      <td>7</td>\n",
       "      <td>1.379657</td>\n",
       "      <td>10</td>\n",
       "      <td>-1</td>\n",
       "      <td>11</td>\n",
       "    </tr>\n",
       "    <tr>\n",
       "      <th>389060</th>\n",
       "      <td>0.190673</td>\n",
       "      <td>0.261653</td>\n",
       "      <td>212.916061</td>\n",
       "      <td>-28.414724</td>\n",
       "      <td>199.759705</td>\n",
       "      <td>-52.283821</td>\n",
       "      <td>1</td>\n",
       "      <td>0.190673</td>\n",
       "      <td>13</td>\n",
       "      <td>-1</td>\n",
       "      <td>-13</td>\n",
       "    </tr>\n",
       "    <tr>\n",
       "      <th>395598</th>\n",
       "      <td>0.276647</td>\n",
       "      <td>0.344119</td>\n",
       "      <td>117.160355</td>\n",
       "      <td>-55.728489</td>\n",
       "      <td>106.626465</td>\n",
       "      <td>-59.390972</td>\n",
       "      <td>1</td>\n",
       "      <td>0.276647</td>\n",
       "      <td>6</td>\n",
       "      <td>-3</td>\n",
       "      <td>-13</td>\n",
       "    </tr>\n",
       "    <tr>\n",
       "      <th>310688</th>\n",
       "      <td>0.171027</td>\n",
       "      <td>0.228291</td>\n",
       "      <td>268.667053</td>\n",
       "      <td>29.325758</td>\n",
       "      <td>255.817703</td>\n",
       "      <td>47.420746</td>\n",
       "      <td>1</td>\n",
       "      <td>0.171027</td>\n",
       "      <td>17</td>\n",
       "      <td>1</td>\n",
       "      <td>-13</td>\n",
       "    </tr>\n",
       "  </tbody>\n",
       "</table>\n",
       "</div>"
      ],
      "text/plain": [
       "          energy  energy_cor           x          y       x_cor      y_cor   \n",
       "90444   0.226996    0.318289 -137.453812 -28.416494 -142.671082 -26.494062  \\\n",
       "117903  2.078756    2.630933  176.723480 -28.409124  180.675705 -26.376453   \n",
       "389060  0.190673    0.261653  212.916061 -28.414724  199.759705 -52.283821   \n",
       "395598  0.276647    0.344119  117.160355 -55.728489  106.626465 -59.390972   \n",
       "310688  0.171027    0.228291  268.667053  29.325758  255.817703  47.420746   \n",
       "\n",
       "        nhits    seed_e  seed_ix  seed_iy  pdg_id  \n",
       "90444       2  0.193887      -14       -1      11  \n",
       "117903      7  1.379657       10       -1      11  \n",
       "389060      1  0.190673       13       -1     -13  \n",
       "395598      1  0.276647        6       -3     -13  \n",
       "310688      1  0.171027       17        1     -13  "
      ]
     },
     "execution_count": 49,
     "metadata": {},
     "output_type": "execute_result"
    }
   ],
   "source": [
    "#create filtered dataframes only containing events that either start as an electron or a negative muon, respectively\n",
    "ele_filt = elec_df.loc[elec_df['pdg_id']==11]\n",
    "mup_filt = muon_df.loc[muon_df['pdg_id']==-13]\n",
    "#print(ele_filt.shape[0],mum_filt.shape[0]) \n",
    "\n",
    "#combine the filtered dataframes\n",
    "combined_df = pd.concat([ele_filt, mup_filt], ignore_index=True)\n",
    "\n",
    "#permute the combined dataframe to randomly mix the indices\n",
    "shuffled_df= combined_df.sample(frac = 1)\n",
    "\n",
    "#make sure shuffled df looks correct\n",
    "print(f\"Number of total shuffled events: {len(shuffled_df)}\")\n",
    "shuffled_df.head()\n",
    "\n",
    "#split the shuffled df into a df for training the tree and a df for validating the tree's predictions\n",
    "shuffled_training_df = shuffled_df.iloc[0:400000]\n",
    "shuffled_validation_df = shuffled_df.iloc[400000:]\n",
    "\n",
    "print(f\"Number of shuffled events for training: {len(shuffled_training_df)}\")\n",
    "print(f\"Number of shuffled events for validation: {len(shuffled_validation_df)}\")"
   ]
  },
  {
   "cell_type": "code",
   "execution_count": 83,
   "id": "2c73436d",
   "metadata": {
    "ExecuteTime": {
     "end_time": "2023-06-29T19:59:18.971310628Z",
     "start_time": "2023-06-29T19:59:18.905058528Z"
    }
   },
   "outputs": [
    {
     "name": "stdout",
     "output_type": "stream",
     "text": [
      "energy\n",
      "energy_cor\n",
      "x\n",
      "y\n",
      "x_cor\n",
      "y_cor\n",
      "nhits\n",
      "seed_e\n",
      "seed_ix\n",
      "seed_iy\n",
      "pdg_id\n",
      "Fraction e/mu: 0.4696588921711271\n"
     ]
    }
   ],
   "source": [
    "for col in shuffled_training_df.columns:\n",
    "    print(col)\n",
    "print('Fraction e/mu: {}'.format(len(shuffled_training_df[shuffled_training_df.pdg_id == 11])/(float)(len(shuffled_training_df[shuffled_training_df.pdg_id == -13]))))    "
   ]
  },
  {
   "cell_type": "markdown",
   "id": "7c5c45a6",
   "metadata": {},
   "source": [
    "We expect the x and y position to be much more important as a training feature than it is with e-/mu-."
   ]
  },
  {
   "cell_type": "code",
   "execution_count": 150,
   "id": "ef080835",
   "metadata": {
    "ExecuteTime": {
     "end_time": "2023-06-29T19:59:19.475216430Z",
     "start_time": "2023-06-29T19:59:19.361716729Z"
    }
   },
   "outputs": [
    {
     "name": "stdout",
     "output_type": "stream",
     "text": [
      "Index(['energy_cor', 'x_cor', 'y_cor', 'nhits', 'seed_e', 'seed_ix',\n",
      "       'seed_iy'],\n",
      "      dtype='object')\n"
     ]
    },
    {
     "data": {
      "text/html": [
       "<div>\n",
       "<style scoped>\n",
       "    .dataframe tbody tr th:only-of-type {\n",
       "        vertical-align: middle;\n",
       "    }\n",
       "\n",
       "    .dataframe tbody tr th {\n",
       "        vertical-align: top;\n",
       "    }\n",
       "\n",
       "    .dataframe thead th {\n",
       "        text-align: right;\n",
       "    }\n",
       "</style>\n",
       "<table border=\"1\" class=\"dataframe\">\n",
       "  <thead>\n",
       "    <tr style=\"text-align: right;\">\n",
       "      <th></th>\n",
       "      <th>energy_cor</th>\n",
       "      <th>x_cor</th>\n",
       "      <th>y_cor</th>\n",
       "      <th>nhits</th>\n",
       "      <th>seed_e</th>\n",
       "      <th>seed_ix</th>\n",
       "      <th>seed_iy</th>\n",
       "      <th>pdg_id</th>\n",
       "    </tr>\n",
       "  </thead>\n",
       "  <tbody>\n",
       "    <tr>\n",
       "      <th>575567</th>\n",
       "      <td>0.236619</td>\n",
       "      <td>305.047699</td>\n",
       "      <td>-57.183563</td>\n",
       "      <td>2</td>\n",
       "      <td>0.094982</td>\n",
       "      <td>21</td>\n",
       "      <td>-1</td>\n",
       "      <td>-13</td>\n",
       "    </tr>\n",
       "    <tr>\n",
       "      <th>139660</th>\n",
       "      <td>1.458695</td>\n",
       "      <td>-234.198776</td>\n",
       "      <td>-41.778664</td>\n",
       "      <td>6</td>\n",
       "      <td>0.922633</td>\n",
       "      <td>-20</td>\n",
       "      <td>-2</td>\n",
       "      <td>11</td>\n",
       "    </tr>\n",
       "    <tr>\n",
       "      <th>415128</th>\n",
       "      <td>0.395857</td>\n",
       "      <td>-197.061264</td>\n",
       "      <td>-40.556244</td>\n",
       "      <td>2</td>\n",
       "      <td>0.166251</td>\n",
       "      <td>-18</td>\n",
       "      <td>-2</td>\n",
       "      <td>-13</td>\n",
       "    </tr>\n",
       "    <tr>\n",
       "      <th>224446</th>\n",
       "      <td>0.213612</td>\n",
       "      <td>-104.001617</td>\n",
       "      <td>28.517933</td>\n",
       "      <td>1</td>\n",
       "      <td>0.144588</td>\n",
       "      <td>-11</td>\n",
       "      <td>1</td>\n",
       "      <td>-13</td>\n",
       "    </tr>\n",
       "    <tr>\n",
       "      <th>490597</th>\n",
       "      <td>0.279624</td>\n",
       "      <td>145.376907</td>\n",
       "      <td>-46.284313</td>\n",
       "      <td>1</td>\n",
       "      <td>0.197887</td>\n",
       "      <td>9</td>\n",
       "      <td>-1</td>\n",
       "      <td>-13</td>\n",
       "    </tr>\n",
       "  </tbody>\n",
       "</table>\n",
       "</div>"
      ],
      "text/plain": [
       "        energy_cor       x_cor      y_cor  nhits    seed_e  seed_ix  seed_iy   \n",
       "575567    0.236619  305.047699 -57.183563      2  0.094982       21       -1  \\\n",
       "139660    1.458695 -234.198776 -41.778664      6  0.922633      -20       -2   \n",
       "415128    0.395857 -197.061264 -40.556244      2  0.166251      -18       -2   \n",
       "224446    0.213612 -104.001617  28.517933      1  0.144588      -11        1   \n",
       "490597    0.279624  145.376907 -46.284313      1  0.197887        9       -1   \n",
       "\n",
       "       pdg_id  \n",
       "575567    -13  \n",
       "139660     11  \n",
       "415128    -13  \n",
       "224446    -13  \n",
       "490597    -13  "
      ]
     },
     "execution_count": 150,
     "metadata": {},
     "output_type": "execute_result"
    }
   ],
   "source": [
    "#drop columns related to truth quantities and redundant features. Not dropping pdg_id yet, as xgboost uses this as the 'label' for the data\n",
    "train_df = shuffled_training_df.drop(columns=['x','y','energy'])\n",
    "val_df = shuffled_validation_df.drop(columns=['x','y','energy'])\n",
    "\n",
    "#create an index of the columns that we want to be the features that the ML tree investigates as dependent variables\n",
    "feature_names = train_df.columns[0:-1] #drop the pdg_id, as it is the independent variable in this context\n",
    "print(feature_names)\n",
    "\n",
    "\n",
    "#necessary to let xgboost know that the pdg_id is a categorical feature\n",
    "train_df['pdg_id']=train_df['pdg_id'].astype('category')\n",
    "val_df['pdg_id']=val_df['pdg_id'].astype('category')\n",
    "val_df.head()\n",
    "\n",
    "\n",
    "\n"
   ]
  },
  {
   "cell_type": "code",
   "execution_count": 151,
   "id": "1275b080",
   "metadata": {
    "ExecuteTime": {
     "end_time": "2023-06-29T19:59:20.174991232Z",
     "start_time": "2023-06-29T19:59:19.952316231Z"
    }
   },
   "outputs": [],
   "source": [
    "train = xgb.DMatrix(data=train_df[feature_names],label=train_df.pdg_id.cat.codes, #what is .cat.codes??\n",
    "                    missing=-999.0,feature_names=feature_names)\n",
    "test = xgb.DMatrix(data=val_df[feature_names],label=val_df.pdg_id.cat.codes,\n",
    "                   missing=-999.0,feature_names=feature_names)"
   ]
  },
  {
   "cell_type": "code",
   "execution_count": 152,
   "id": "99792a97",
   "metadata": {
    "ExecuteTime": {
     "end_time": "2023-06-29T19:59:20.893183934Z",
     "start_time": "2023-06-29T19:59:20.778296234Z"
    }
   },
   "outputs": [
    {
     "name": "stdout",
     "output_type": "stream",
     "text": [
      "Number of training samples: 400000\n",
      "Number of testing samples: 179431\n",
      "\n",
      "Number of electron events in training set: 127828\n",
      "\n",
      "Ratio e-/mu+ in training: 0.4696588921711271\n"
     ]
    }
   ],
   "source": [
    "print('Number of training samples: {}'.format(train.num_row()))\n",
    "print('Number of testing samples: {}'.format(test.num_row()))\n",
    "\n",
    "print('\\nNumber of electron events in training set: {}'.format(len(np.where(train.get_label())[0])))\n",
    "elec_in_training = format(len(np.where(train.get_label())[0]))\n",
    "\n",
    "muon_in_training = train_df.shape[0] - int(elec_in_training)\n",
    "print(f\"\\nRatio e-/mu+ in training: {int(elec_in_training)/muon_in_training}\") #check that we have preserved ratio"
   ]
  },
  {
   "cell_type": "code",
   "execution_count": 153,
   "id": "de96591f",
   "metadata": {
    "ExecuteTime": {
     "end_time": "2023-06-29T20:07:24.536888439Z",
     "start_time": "2023-06-29T20:07:24.421713640Z"
    }
   },
   "outputs": [],
   "source": [
    "param = {}\n",
    "\n",
    "# Booster parameters\n",
    "param['eta']              = .1 # learning rate\n",
    "param['max_depth']        = 10 # maximum depth of a tree\n",
    "param['subsample']        = 1 # fraction of events to train tree on\n",
    "param['colsample_bytree'] = 1 # fraction of features to train tree on\n",
    "\n",
    "# Learning task parameters\n",
    "param['objective']   = 'binary:logistic' # objective function\n",
    "param['eval_metric'] = 'error'           # evaluation metric for cross validation\n",
    "param = list(param.items()) + [('eval_metric', 'logloss')] + [('eval_metric', 'rmse')]\n",
    "\n",
    "num_trees = 100 # number of trees to make"
   ]
  },
  {
   "cell_type": "code",
   "execution_count": 154,
   "id": "8a9d1051",
   "metadata": {
    "ExecuteTime": {
     "end_time": "2023-06-29T20:08:31.983667587Z",
     "start_time": "2023-06-29T20:07:24.584849238Z"
    }
   },
   "outputs": [],
   "source": [
    "#train using xgboost\n",
    "%%time\n",
    "booster = xgb.train(param,train,num_boost_round=num_trees)"
   ]
  },
  {
   "cell_type": "code",
   "execution_count": 155,
   "id": "468112ce",
   "metadata": {
    "ExecuteTime": {
     "end_time": "2023-06-29T20:08:35.597271781Z",
     "start_time": "2023-06-29T20:08:35.129485681Z"
    }
   },
   "outputs": [
    {
     "name": "stdout",
     "output_type": "stream",
     "text": [
      "[0]\teval-rmse:0.13370461601935887\teval-rmse:0.13370461601935887\teval-rmse:0.13370461601935887\n"
     ]
    }
   ],
   "source": [
    "#evaluate the model using the test dataset\n",
    "print(booster.eval(test))"
   ]
  },
  {
   "cell_type": "code",
   "execution_count": 156,
   "id": "8d220abb",
   "metadata": {
    "ExecuteTime": {
     "end_time": "2023-06-29T20:08:39.764078973Z",
     "start_time": "2023-06-29T20:08:39.654988173Z"
    }
   },
   "outputs": [],
   "source": [
    "predictions = booster.predict(test)"
   ]
  },
  {
   "cell_type": "code",
   "execution_count": 157,
   "id": "52a1288d",
   "metadata": {
    "ExecuteTime": {
     "end_time": "2023-06-29T20:08:42.974752063Z",
     "start_time": "2023-06-29T20:08:41.411341868Z"
    }
   },
   "outputs": [
    {
     "name": "stderr",
     "output_type": "stream",
     "text": [
      "/tmp/ipykernel_1585/2933838026.py:11: RuntimeWarning: invalid value encountered in divide\n",
      "  plt.plot(nsignal/len(val_df[val_df.pdg_id == 11]),nsignal/(nsignal + nbackground),'o-',color='blueviolet');\n",
      "No artists with labels found to put in legend.  Note that artists whose label start with an underscore are ignored when legend() is called with no argument.\n"
     ]
    },
    {
     "data": {
      "image/png": "[encoded data removed]",
      "text/plain": [
       "<Figure size 432x288 with 1 Axes>"
      ]
     },
     "metadata": {
      "needs_background": "light"
     },
     "output_type": "display_data"
    }
   ],
   "source": [
    "# choose score cuts:\n",
    "cuts = np.linspace(0,1,500);\n",
    "nsignal = np.zeros(len(cuts));\n",
    "nbackground = np.zeros(len(cuts));\n",
    "for i,cut in enumerate(cuts):\n",
    "    nsignal[i] = len(np.where(predictions[test.get_label().astype(bool)] > cut)[0]);\n",
    "    nbackground[i] = len(np.where(predictions[~(test.get_label().astype(bool))] > cut)[0]);\n",
    "    \n",
    "# plot efficiency vs. purity (ROC curve)\n",
    "plt.figure();\n",
    "plt.plot(nsignal/len(val_df[val_df.pdg_id == 11]),nsignal/(nsignal + nbackground),'o-',color='blueviolet');\n",
    "# make the plot readable\n",
    "plt.xlabel('Efficiency',fontsize=12);\n",
    "plt.ylabel('Purity',fontsize=12);\n",
    "plt.legend(frameon=False);"
   ]
  },
  {
   "cell_type": "code",
   "execution_count": 159,
   "id": "12be6762",
   "metadata": {
    "ExecuteTime": {
     "end_time": "2023-06-29T20:08:45.470913756Z",
     "start_time": "2023-06-29T20:08:45.183055557Z"
    }
   },
   "outputs": [
    {
     "name": "stdout",
     "output_type": "stream",
     "text": [
      "x and y are very deciding features for xgboost again, no surprises.\n"
     ]
    },
    {
     "data": {
      "image/png": "[encoded data removed]",
      "text/plain": [
       "<Figure size 432x288 with 1 Axes>"
      ]
     },
     "metadata": {
      "needs_background": "light"
     },
     "output_type": "display_data"
    }
   ],
   "source": [
    "xgb.plot_importance(booster,grid=False);\n",
    "print(\"x and y are very deciding features for xgboost again, no surprises.\")"
   ]
  },
  {
   "cell_type": "code",
   "execution_count": 160,
   "id": "216e5ba8",
   "metadata": {
    "ExecuteTime": {
     "end_time": "2023-06-29T20:08:47.125434051Z",
     "start_time": "2023-06-29T20:08:46.871589352Z"
    }
   },
   "outputs": [],
   "source": [
    "from sklearn import tree\n",
    "clf = tree.DecisionTreeClassifier()\n",
    "import time"
   ]
  },
  {
   "cell_type": "code",
   "execution_count": 177,
   "id": "f4eccd4e",
   "metadata": {
    "ExecuteTime": {
     "end_time": "2023-06-29T20:08:57.122034089Z",
     "start_time": "2023-06-29T20:08:48.565546426Z"
    }
   },
   "outputs": [
    {
     "name": "stdout",
     "output_type": "stream",
     "text": [
      "Training set score (should be very close to 1): 0.999958\n",
      "Test set score (how accurate the model is at classifying mu+/e-): 0.961718\n",
      "So using 179431 datapoints, we on average have a 3.828212516231866 % error\n",
      "CPU times: user 5.03 s, sys: 29.9 ms, total: 5.06 s\n",
      "Wall time: 5.03 s\n"
     ]
    }
   ],
   "source": [
    "%%time\n",
    "X_train = train_df.drop(columns=['pdg_id']) #remove the 'truth' aka pdg_id column from the features dataset\n",
    "X_test = val_df.drop(columns=['pdg_id']) #same thing, but for the df for testing the model\n",
    "Y_train = train_df['pdg_id'] #this is the df containing the truth values for the X_train features, aka which particle they are\n",
    "Y_test = val_df['pdg_id'] #contains truth values for the test set \n",
    "\n",
    "#check to make sure we have the same number of entries \n",
    "X_train.shape[0]==Y_train.shape[0]\n",
    "#we do the fitting here\n",
    "clf.fit(X_train, Y_train)\n",
    "#test the model \n",
    "clf_pred = clf.predict(X_test)\n",
    "X_test.shape\n",
    "print(\"Training set score (should be very close to 1): %f\" % clf.score(X_train, Y_train))\n",
    "print(\"Test set score (how accurate the model is at classifying mu+/e-): %f\" % clf.score(X_test, Y_test))\n",
    "print(f\"So using {X_test.shape[0]} datapoints, we on average have a {(1-clf.score(X_test,Y_test))*100} % error\")"
   ]
  },
  {
   "cell_type": "code",
   "execution_count": 163,
   "id": "3a348bb7",
   "metadata": {
    "ExecuteTime": {
     "end_time": "2023-06-29T20:20:04.511603400Z",
     "start_time": "2023-06-29T20:20:04.399623994Z"
    }
   },
   "outputs": [],
   "source": [
    "A = tree.DecisionTreeClassifier(max_depth=10)\n",
    "B = tree.DecisionTreeClassifier(max_depth=1)"
   ]
  },
  {
   "cell_type": "code",
   "execution_count": 164,
   "id": "6302164b",
   "metadata": {
    "ExecuteTime": {
     "end_time": "2023-06-29T20:20:05.966940165Z",
     "start_time": "2023-06-29T20:20:05.023387522Z"
    }
   },
   "outputs": [
    {
     "name": "stdout",
     "output_type": "stream",
     "text": [
      "So using 179431 datapoints, we on average have a 3.1237634522462643 % error\n",
      "Using a 1 layer deep tree, we yield a 4.325339545563478 % error\n"
     ]
    }
   ],
   "source": [
    "A.fit(X_train, Y_train)\n",
    "B.fit(X_train,Y_train)\n",
    "A.predict(X_test)\n",
    "B.predict(X_test)\n",
    "print(f\"So using {X_test.shape[0]} datapoints, we on average have a {(1-A.score(X_test,Y_test))*100} % error\")\n",
    "print(f\"Using a 1 layer deep tree, we yield a {(1-B.score(X_test,Y_test))*100} % error\")"
   ]
  },
  {
   "cell_type": "code",
   "execution_count": 165,
   "id": "f560c402",
   "metadata": {
    "ExecuteTime": {
     "end_time": "2023-06-29T20:19:59.337154790Z",
     "start_time": "2023-06-29T20:19:59.216775387Z"
    }
   },
   "outputs": [],
   "source": [
    "A_score = A.score(X_test,Y_test)\n",
    "B_score = B.score(X_test,Y_test)"
   ]
  },
  {
   "cell_type": "code",
   "execution_count": 166,
   "id": "ee0daf23",
   "metadata": {
    "ExecuteTime": {
     "end_time": "2023-06-29T20:19:38.349754715Z",
     "start_time": "2023-06-29T20:19:38.116673610Z"
    }
   },
   "outputs": [
    {
     "name": "stdout",
     "output_type": "stream",
     "text": [
      "Test set score (how accurate the model is at classifying mu+/e-): 0.968762\n"
     ]
    }
   ],
   "source": [
    "print(\"Test set score (how accurate the model is at classifying mu+/e-): %f\" % A.score(X_test, Y_test))"
   ]
  },
  {
   "cell_type": "code",
   "execution_count": 169,
   "id": "6a5d3771",
   "metadata": {},
   "outputs": [
    {
     "data": {
      "text/plain": [
       "0.969697464115418"
      ]
     },
     "execution_count": 169,
     "metadata": {},
     "output_type": "execute_result"
    }
   ],
   "source": [
    "sklearn.metrics.f1_score(Y_test,predict, pos_label = -13) #f score"
   ]
  },
  {
   "cell_type": "code",
   "execution_count": 170,
   "id": "15ec8641",
   "metadata": {},
   "outputs": [
    {
     "data": {
      "text/plain": [
       "array([9.44946146e-01, 7.69210684e-03, 2.01151353e-02, 2.77437066e-03,\n",
       "       5.31003360e-03, 1.90817291e-02, 8.04787815e-05])"
      ]
     },
     "execution_count": 170,
     "metadata": {},
     "output_type": "execute_result"
    }
   ],
   "source": [
    "A.classes_ #some helpful attributes of the decision tree class\n",
    "A.max_features_\n",
    "A.feature_names_in_\n",
    "A.feature_importances_"
   ]
  },
  {
   "cell_type": "code",
   "execution_count": 171,
   "id": "c983f5fd",
   "metadata": {},
   "outputs": [
    {
     "name": "stdout",
     "output_type": "stream",
     "text": [
      "Again, sklearn's tree really only uses the energy of the particle to do classification, even with oppositely charged particles\n"
     ]
    },
    {
     "data": {
      "image/png": "[encoded data removed]",
      "text/plain": [
       "<Figure size 432x288 with 1 Axes>"
      ]
     },
     "metadata": {
      "needs_background": "light"
     },
     "output_type": "display_data"
    }
   ],
   "source": [
    "plt.bar(A.feature_names_in_,A.feature_importances_)\n",
    "print(\"Again, sklearn's tree really only uses the energy of the particle to do classification, even with oppositely charged particles\")"
   ]
  },
  {
   "cell_type": "code",
   "execution_count": 178,
   "id": "edd4e28c",
   "metadata": {},
   "outputs": [
    {
     "data": {
      "image/png": "[encoded data removed]",
      "text/plain": [
       "<Figure size 432x288 with 2 Axes>"
      ]
     },
     "metadata": {
      "needs_background": "light"
     },
     "output_type": "display_data"
    }
   ],
   "source": [
    "#create and plot the confusion matrix for the normal decision tree\n",
    "clf_cmatrix = sklearn.metrics.confusion_matrix(Y_test, clf_pred, labels=clf.classes_)\n",
    "display = sklearn.metrics.ConfusionMatrixDisplay(clf_cmatrix, display_labels=clf.classes_)\n",
    "display.plot()\n",
    "plt.show()"
   ]
  },
  {
   "cell_type": "code",
   "execution_count": 172,
   "id": "67977e54",
   "metadata": {},
   "outputs": [],
   "source": [
    "from sklearn.ensemble import HistGradientBoostingClassifier"
   ]
  },
  {
   "cell_type": "code",
   "execution_count": 173,
   "id": "92fdc2b2",
   "metadata": {},
   "outputs": [],
   "source": [
    "#for fun, we try another kind of classified, recommended for cases with huge data \n",
    "hist_gradient_BC = HistGradientBoostingClassifier().fit(X_train,Y_train)"
   ]
  },
  {
   "cell_type": "code",
   "execution_count": 174,
   "id": "682aa586",
   "metadata": {},
   "outputs": [],
   "source": [
    "hist_score = hist_gradient_BC.score(X_test,Y_test)"
   ]
  },
  {
   "cell_type": "code",
   "execution_count": 175,
   "id": "8d370461",
   "metadata": {},
   "outputs": [
    {
     "name": "stdout",
     "output_type": "stream",
     "text": [
      " standard decision tree score: 0.9687623654775374, hist gradient score: 0.9740290139385056\n"
     ]
    }
   ],
   "source": [
    "print(f\" standard decision tree score: {A_score}, hist gradient score: {hist_score}\")"
   ]
  },
  {
   "cell_type": "code",
   "execution_count": 176,
   "id": "b3ad4d66",
   "metadata": {},
   "outputs": [
    {
     "name": "stdout",
     "output_type": "stream",
     "text": [
      "hist_gradient is 0.5266648460968248 % better than the standard classifier\n"
     ]
    }
   ],
   "source": [
    "print(f\"hist_gradient is {(hist_score - A_score)*100 } % better than the standard classifier\")"
   ]
  }
 ],
 "metadata": {
  "kernelspec": {
   "display_name": "Python 3 (ipykernel)",
   "language": "python",
   "name": "python3"
  },
  "language_info": {
   "codemirror_mode": {
    "name": "ipython",
    "version": 3
   },
   "file_extension": ".py",
   "mimetype": "text/x-python",
   "name": "python",
   "nbconvert_exporter": "python",
   "pygments_lexer": "ipython3",
   "version": "3.10.6"
  }
 },
 "nbformat": 4,
 "nbformat_minor": 5
}
