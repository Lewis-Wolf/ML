{
 "cells": [
  {
   "cell_type": "code",
   "execution_count": 1,
   "id": "0f6cb631",
   "metadata": {
    "ExecuteTime": {
     "end_time": "2023-06-29T19:59:15.294203511Z",
     "start_time": "2023-06-29T19:59:15.182416810Z"
    }
   },
   "outputs": [
    {
     "name": "stdout",
     "output_type": "stream",
     "text": [
      "Welcome to JupyROOT 6.28/02\n"
     ]
    }
   ],
   "source": [
    "# Warning: Execute this cell only once for the kernel. Reset the kernel if you need changes.\n",
    "import sys\n",
    "import ROOT as R\n",
    "import time\n",
    "import numpy as np\n",
    "import xgboost as xgb\n",
    "import pandas as pd\n",
    "import os\n",
    "import matplotlib.pyplot as plt\n",
    "import xgboost as xgb\n",
    "\n",
    "%matplotlib inline\n",
    "# Turn jsroot off if you want to make a pdf from this file.\n",
    "%jsroot off\n",
    "R.gSystem.Load(\"libMiniDst\")\n",
    "from root_helpers import SetStyle\n",
    "#R.EnableImplicitMT()"
   ]
  },
  {
   "cell_type": "code",
   "execution_count": 2,
   "id": "6bfeeff9",
   "metadata": {
    "ExecuteTime": {
     "end_time": "2023-06-29T19:59:16.468231317Z",
     "start_time": "2023-06-29T19:59:16.300921716Z"
    }
   },
   "outputs": [
    {
     "name": "stdout",
     "output_type": "stream",
     "text": [
      "Number of muon events in data set is 456616\n",
      "Number of electron envents in data set is 303723\n"
     ]
    }
   ],
   "source": [
    "muon_df =pd.read_feather(\"muplus.feather\") #read in muon hdf to pandas dataframe\n",
    "print(f\"Number of muon events in data set is {len(muon_df)}\")\n",
    "\n",
    "elec_df = pd.read_feather(\"electrons_large.feather\")\n",
    "print(f\"Number of electron envents in data set is {len(elec_df)}\")"
   ]
  },
  {
   "cell_type": "code",
   "execution_count": 3,
   "id": "c54c3f46",
   "metadata": {
    "ExecuteTime": {
     "end_time": "2023-06-29T19:59:17.311366421Z",
     "start_time": "2023-06-29T19:59:17.178092520Z"
    }
   },
   "outputs": [
    {
     "data": {
      "text/html": [
       "<div>\n",
       "<style scoped>\n",
       "    .dataframe tbody tr th:only-of-type {\n",
       "        vertical-align: middle;\n",
       "    }\n",
       "\n",
       "    .dataframe tbody tr th {\n",
       "        vertical-align: top;\n",
       "    }\n",
       "\n",
       "    .dataframe thead th {\n",
       "        text-align: right;\n",
       "    }\n",
       "</style>\n",
       "<table border=\"1\" class=\"dataframe\">\n",
       "  <thead>\n",
       "    <tr style=\"text-align: right;\">\n",
       "      <th></th>\n",
       "      <th>energy</th>\n",
       "      <th>energy_cor</th>\n",
       "      <th>x</th>\n",
       "      <th>y</th>\n",
       "      <th>x_cor</th>\n",
       "      <th>y_cor</th>\n",
       "      <th>nhits</th>\n",
       "      <th>seed_e</th>\n",
       "      <th>seed_ix</th>\n",
       "      <th>seed_iy</th>\n",
       "      <th>pdg_id</th>\n",
       "    </tr>\n",
       "  </thead>\n",
       "  <tbody>\n",
       "    <tr>\n",
       "      <th>0</th>\n",
       "      <td>0.420823</td>\n",
       "      <td>0.496185</td>\n",
       "      <td>333.110657</td>\n",
       "      <td>-42.179264</td>\n",
       "      <td>338.483276</td>\n",
       "      <td>-40.589531</td>\n",
       "      <td>2</td>\n",
       "      <td>0.237149</td>\n",
       "      <td>22</td>\n",
       "      <td>-2</td>\n",
       "      <td>11</td>\n",
       "    </tr>\n",
       "    <tr>\n",
       "      <th>1</th>\n",
       "      <td>0.247561</td>\n",
       "      <td>0.316166</td>\n",
       "      <td>185.363876</td>\n",
       "      <td>29.310331</td>\n",
       "      <td>174.644073</td>\n",
       "      <td>36.101917</td>\n",
       "      <td>1</td>\n",
       "      <td>0.247561</td>\n",
       "      <td>11</td>\n",
       "      <td>1</td>\n",
       "      <td>-13</td>\n",
       "    </tr>\n",
       "    <tr>\n",
       "      <th>2</th>\n",
       "      <td>0.188735</td>\n",
       "      <td>0.239792</td>\n",
       "      <td>-134.561981</td>\n",
       "      <td>-42.101715</td>\n",
       "      <td>-139.367844</td>\n",
       "      <td>-40.552067</td>\n",
       "      <td>2</td>\n",
       "      <td>0.097026</td>\n",
       "      <td>-14</td>\n",
       "      <td>-2</td>\n",
       "      <td>-13</td>\n",
       "    </tr>\n",
       "    <tr>\n",
       "      <th>3</th>\n",
       "      <td>0.332808</td>\n",
       "      <td>0.440965</td>\n",
       "      <td>304.757080</td>\n",
       "      <td>-28.434359</td>\n",
       "      <td>298.138702</td>\n",
       "      <td>-29.613213</td>\n",
       "      <td>2</td>\n",
       "      <td>0.204439</td>\n",
       "      <td>20</td>\n",
       "      <td>-1</td>\n",
       "      <td>-13</td>\n",
       "    </tr>\n",
       "    <tr>\n",
       "      <th>4</th>\n",
       "      <td>0.146460</td>\n",
       "      <td>0.214402</td>\n",
       "      <td>345.612549</td>\n",
       "      <td>70.604927</td>\n",
       "      <td>331.011536</td>\n",
       "      <td>84.421089</td>\n",
       "      <td>2</td>\n",
       "      <td>0.106964</td>\n",
       "      <td>22</td>\n",
       "      <td>4</td>\n",
       "      <td>22</td>\n",
       "    </tr>\n",
       "    <tr>\n",
       "      <th>...</th>\n",
       "      <td>...</td>\n",
       "      <td>...</td>\n",
       "      <td>...</td>\n",
       "      <td>...</td>\n",
       "      <td>...</td>\n",
       "      <td>...</td>\n",
       "      <td>...</td>\n",
       "      <td>...</td>\n",
       "      <td>...</td>\n",
       "      <td>...</td>\n",
       "      <td>...</td>\n",
       "    </tr>\n",
       "    <tr>\n",
       "      <th>95</th>\n",
       "      <td>0.168204</td>\n",
       "      <td>0.199832</td>\n",
       "      <td>-254.006302</td>\n",
       "      <td>84.367714</td>\n",
       "      <td>-260.842773</td>\n",
       "      <td>84.812813</td>\n",
       "      <td>3</td>\n",
       "      <td>0.086094</td>\n",
       "      <td>-22</td>\n",
       "      <td>5</td>\n",
       "      <td>22</td>\n",
       "    </tr>\n",
       "    <tr>\n",
       "      <th>96</th>\n",
       "      <td>0.217507</td>\n",
       "      <td>0.326472</td>\n",
       "      <td>45.021240</td>\n",
       "      <td>29.299788</td>\n",
       "      <td>33.544285</td>\n",
       "      <td>34.920372</td>\n",
       "      <td>2</td>\n",
       "      <td>0.176984</td>\n",
       "      <td>1</td>\n",
       "      <td>1</td>\n",
       "      <td>-13</td>\n",
       "    </tr>\n",
       "    <tr>\n",
       "      <th>97</th>\n",
       "      <td>0.213956</td>\n",
       "      <td>0.280499</td>\n",
       "      <td>185.363876</td>\n",
       "      <td>42.984776</td>\n",
       "      <td>173.908875</td>\n",
       "      <td>50.527584</td>\n",
       "      <td>1</td>\n",
       "      <td>0.213956</td>\n",
       "      <td>11</td>\n",
       "      <td>2</td>\n",
       "      <td>-13</td>\n",
       "    </tr>\n",
       "    <tr>\n",
       "      <th>98</th>\n",
       "      <td>0.185995</td>\n",
       "      <td>0.259533</td>\n",
       "      <td>345.772797</td>\n",
       "      <td>43.089863</td>\n",
       "      <td>334.110687</td>\n",
       "      <td>54.197628</td>\n",
       "      <td>2</td>\n",
       "      <td>0.132359</td>\n",
       "      <td>22</td>\n",
       "      <td>2</td>\n",
       "      <td>-13</td>\n",
       "    </tr>\n",
       "    <tr>\n",
       "      <th>99</th>\n",
       "      <td>0.176257</td>\n",
       "      <td>0.216722</td>\n",
       "      <td>185.363876</td>\n",
       "      <td>-28.410330</td>\n",
       "      <td>171.200043</td>\n",
       "      <td>-61.362133</td>\n",
       "      <td>1</td>\n",
       "      <td>0.176257</td>\n",
       "      <td>11</td>\n",
       "      <td>-1</td>\n",
       "      <td>-13</td>\n",
       "    </tr>\n",
       "  </tbody>\n",
       "</table>\n",
       "<p>100 rows × 11 columns</p>\n",
       "</div>"
      ],
      "text/plain": [
       "      energy  energy_cor           x          y       x_cor      y_cor  nhits   \n",
       "0   0.420823    0.496185  333.110657 -42.179264  338.483276 -40.589531      2  \\\n",
       "1   0.247561    0.316166  185.363876  29.310331  174.644073  36.101917      1   \n",
       "2   0.188735    0.239792 -134.561981 -42.101715 -139.367844 -40.552067      2   \n",
       "3   0.332808    0.440965  304.757080 -28.434359  298.138702 -29.613213      2   \n",
       "4   0.146460    0.214402  345.612549  70.604927  331.011536  84.421089      2   \n",
       "..       ...         ...         ...        ...         ...        ...    ...   \n",
       "95  0.168204    0.199832 -254.006302  84.367714 -260.842773  84.812813      3   \n",
       "96  0.217507    0.326472   45.021240  29.299788   33.544285  34.920372      2   \n",
       "97  0.213956    0.280499  185.363876  42.984776  173.908875  50.527584      1   \n",
       "98  0.185995    0.259533  345.772797  43.089863  334.110687  54.197628      2   \n",
       "99  0.176257    0.216722  185.363876 -28.410330  171.200043 -61.362133      1   \n",
       "\n",
       "      seed_e  seed_ix  seed_iy  pdg_id  \n",
       "0   0.237149       22       -2      11  \n",
       "1   0.247561       11        1     -13  \n",
       "2   0.097026      -14       -2     -13  \n",
       "3   0.204439       20       -1     -13  \n",
       "4   0.106964       22        4      22  \n",
       "..       ...      ...      ...     ...  \n",
       "95  0.086094      -22        5      22  \n",
       "96  0.176984        1        1     -13  \n",
       "97  0.213956       11        2     -13  \n",
       "98  0.132359       22        2     -13  \n",
       "99  0.176257       11       -1     -13  \n",
       "\n",
       "[100 rows x 11 columns]"
      ]
     },
     "execution_count": 3,
     "metadata": {},
     "output_type": "execute_result"
    }
   ],
   "source": [
    "muon_df[0:100]"
   ]
  },
  {
   "cell_type": "code",
   "execution_count": 4,
   "id": "0f420287",
   "metadata": {
    "ExecuteTime": {
     "end_time": "2023-06-29T19:59:18.088012825Z",
     "start_time": "2023-06-29T19:59:17.866892424Z"
    }
   },
   "outputs": [
    {
     "name": "stdout",
     "output_type": "stream",
     "text": [
      "Number of shuffled events: 579431\n",
      "Number of total shuffled events for training: 400000\n",
      "Number of total mu+ events: 394187\n",
      "Number of total e- events: 185244\n",
      "Number of shuffled events for validation: 179431\n"
     ]
    }
   ],
   "source": [
    "\n",
    "elec_filt = elec_df.loc[elec_df['pdg_id']==11]\n",
    "mup_filt = muon_df.loc[muon_df['pdg_id']==-13]\n",
    "\n",
    "\n",
    "\n",
    "#add column [pdg] for particle identification \n",
    "#muon_df['pdg_id'] = pd.Series([13 for x in range(len(muon_df.index))])\n",
    "#elec_df['pdg_id'] = pd.Series([11 for x in range(len(elec_df.index))])\n",
    "#verify id column with constant value\n",
    "\n",
    "#split dfs into two for training and validation. 60% training, 40% validation for now\n",
    "#muon_short = muon_df.iloc[0:]\n",
    "#elec_short = elec_df.iloc[0:]\n",
    "#muon_df_training = muon_df.iloc[0:30000]\n",
    "#muon_df_validation = muon_df.iloc[30000:50000]\n",
    "#elec_df_training = elec_df.iloc[0:200000]\n",
    "#elec_df_validation = elec_df.iloc[200000:]\n",
    "\n",
    "\n",
    "#print(f\"Number of muon events for training: {len(muon_df_training)}\")\n",
    "#print(f\"Number of muon events for validation: {len(muon_df_validation)}\")\n",
    "#print(f\"Number of electron events for training: {len(elec_df_training)}\")\n",
    "#print(f\"Number of electron events for validation: {len(elec_df_validation)}\")\n",
    "\n",
    "#combine training dataframes:\n",
    "combined_df = pd.concat([elec_filt, mup_filt], ignore_index=True)\n",
    "#permute the combined dataframe to randomly mix the indices\n",
    "#ran_loc = np.random.permutation(len(combined))  \n",
    "shuffled_df= combined_df.sample(frac = 1)\n",
    "#make sure shuffled df looks correct\n",
    "print(f\"Number of shuffled events: {len(shuffled_df)}\")\n",
    "shuffled_df.head()\n",
    "shuffled_df.tail()\n",
    "\n",
    "#split the shuffled df\n",
    "shuffled_training_df = shuffled_df.iloc[0:400000]\n",
    "shuffled_validation_df = shuffled_df.iloc[400000:]\n",
    "\n",
    "print(f\"Number of total shuffled events for training: {len(shuffled_training_df)}\")\n",
    "print(f\"Number of total mu+ events: {mup_filt.shape[0]}\")\n",
    "print(f\"Number of total e- events: {elec_filt.shape[0]}\")\n",
    "print(f\"Number of shuffled events for validation: {len(shuffled_validation_df)}\")\n"
   ]
  },
  {
   "cell_type": "code",
   "execution_count": 5,
   "id": "45f79d01",
   "metadata": {
    "ExecuteTime": {
     "end_time": "2023-06-29T19:59:18.671884627Z",
     "start_time": "2023-06-29T19:59:18.567801827Z"
    }
   },
   "outputs": [
    {
     "name": "stdout",
     "output_type": "stream",
     "text": [
      "ratio of e- to mu+: 0.46993939424689296\n"
     ]
    }
   ],
   "source": [
    "print(f\"ratio of e- to mu+: {elec_filt.shape[0]/mup_filt.shape[0]}\")"
   ]
  },
  {
   "cell_type": "code",
   "execution_count": 6,
   "id": "2c73436d",
   "metadata": {
    "ExecuteTime": {
     "end_time": "2023-06-29T19:59:18.971310628Z",
     "start_time": "2023-06-29T19:59:18.905058528Z"
    }
   },
   "outputs": [
    {
     "name": "stdout",
     "output_type": "stream",
     "text": [
      "energy\n",
      "energy_cor\n",
      "x\n",
      "y\n",
      "x_cor\n",
      "y_cor\n",
      "nhits\n",
      "seed_e\n",
      "seed_ix\n",
      "seed_iy\n",
      "pdg_id\n"
     ]
    }
   ],
   "source": [
    "for col in shuffled_training_df.columns:\n",
    "    print(col)\n",
    "#print('Fraction e/mu: {}'.format(len(shuffled_training_df[shuffled_training_df.pdg_id == 11])/(float)(len(shuffled_training_df[shuffled_training_df.pdg_id == 13]) + len(shuffled_training_df[shuffled_training_df.pdg_id == 11]))))    "
   ]
  },
  {
   "cell_type": "markdown",
   "id": "7c5c45a6",
   "metadata": {},
   "source": [
    "We expect the x and y position to be much more important as a training feature than it is with e-/mu-."
   ]
  },
  {
   "cell_type": "code",
   "execution_count": 7,
   "id": "ef080835",
   "metadata": {
    "ExecuteTime": {
     "end_time": "2023-06-29T19:59:19.475216430Z",
     "start_time": "2023-06-29T19:59:19.361716729Z"
    }
   },
   "outputs": [
    {
     "name": "stdout",
     "output_type": "stream",
     "text": [
      "Index(['energy', 'energy_cor', 'x', 'y', 'x_cor', 'y_cor', 'nhits', 'seed_e',\n",
      "       'seed_ix', 'seed_iy'],\n",
      "      dtype='object')\n"
     ]
    },
    {
     "name": "stderr",
     "output_type": "stream",
     "text": [
      "/tmp/ipykernel_1585/279481383.py:4: SettingWithCopyWarning: \n",
      "A value is trying to be set on a copy of a slice from a DataFrame.\n",
      "Try using .loc[row_indexer,col_indexer] = value instead\n",
      "\n",
      "See the caveats in the documentation: https://pandas.pydata.org/pandas-docs/stable/user_guide/indexing.html#returning-a-view-versus-a-copy\n",
      "  only_ecal_tr_df['pdg_id']=only_ecal_tr_df['pdg_id'].astype('category')\n",
      "/tmp/ipykernel_1585/279481383.py:5: SettingWithCopyWarning: \n",
      "A value is trying to be set on a copy of a slice from a DataFrame.\n",
      "Try using .loc[row_indexer,col_indexer] = value instead\n",
      "\n",
      "See the caveats in the documentation: https://pandas.pydata.org/pandas-docs/stable/user_guide/indexing.html#returning-a-view-versus-a-copy\n",
      "  only_ecal_val_df['pdg_id']=only_ecal_val_df['pdg_id'].astype('category')\n"
     ]
    }
   ],
   "source": [
    "only_ecal_tr_df = shuffled_training_df\n",
    "only_ecal_val_df = shuffled_validation_df\n",
    "#necessary to let xgboost know that the pdg_id is a categorical feature\n",
    "only_ecal_tr_df['pdg_id']=only_ecal_tr_df['pdg_id'].astype('category')\n",
    "only_ecal_val_df['pdg_id']=only_ecal_val_df['pdg_id'].astype('category')\n",
    "feature_names = only_ecal_tr_df.columns[0:-1] #drop the pdg_id, as its not a dependent variable\n",
    "print(feature_names)\n",
    "\n"
   ]
  },
  {
   "cell_type": "code",
   "execution_count": 8,
   "id": "1275b080",
   "metadata": {
    "ExecuteTime": {
     "end_time": "2023-06-29T19:59:20.174991232Z",
     "start_time": "2023-06-29T19:59:19.952316231Z"
    }
   },
   "outputs": [],
   "source": [
    "train = xgb.DMatrix(data=only_ecal_tr_df[feature_names],label=only_ecal_tr_df.pdg_id.cat.codes, #what is .cat.codes??\n",
    "                    missing=-999.0,feature_names=feature_names)\n",
    "test = xgb.DMatrix(data=only_ecal_val_df[feature_names],label=only_ecal_val_df.pdg_id.cat.codes,\n",
    "                   missing=-999.0,feature_names=feature_names)"
   ]
  },
  {
   "cell_type": "code",
   "execution_count": 9,
   "id": "99792a97",
   "metadata": {
    "ExecuteTime": {
     "end_time": "2023-06-29T19:59:20.893183934Z",
     "start_time": "2023-06-29T19:59:20.778296234Z"
    }
   },
   "outputs": [
    {
     "name": "stdout",
     "output_type": "stream",
     "text": [
      "Number of training samples: 400000\n",
      "Number of testing samples: 179431\n",
      "\n",
      "Number of electron events in training set: 127884\n",
      "Number of muon events in training set: 272238\n",
      "\n",
      "Number of electron events in testing set: 57360\n",
      "\n",
      "Number of muon events in testing set: 121949\n",
      "\n",
      "training e-/mu+ ratio: 0.469302595523035\n",
      "\n",
      "testing e-/mu+ ratio: 0.4713609787698136\n"
     ]
    }
   ],
   "source": [
    "print('Number of training samples: {}'.format(train.num_row()))\n",
    "print('Number of testing samples: {}'.format(test.num_row()))\n",
    "\n",
    "print('\\nNumber of electron events in training set: {}'.format(len(np.where(train.get_label())[0])))\n",
    "print(f\"Number of muon events in training set: {400000 - 127762}\")\n",
    "print('\\nNumber of electron events in testing set: {}'.format(len(np.where(test.get_label())[0])))\n",
    "print(f\"\\nNumber of muon events in testing set: {179431-57482}\")\n",
    "print(f\"\\ntraining e-/mu+ ratio: {127762/272238}\")\n",
    "print(f\"\\ntesting e-/mu+ ratio: {57482/121949}\")"
   ]
  },
  {
   "cell_type": "code",
   "execution_count": 10,
   "id": "de96591f",
   "metadata": {
    "ExecuteTime": {
     "end_time": "2023-06-29T20:07:24.536888439Z",
     "start_time": "2023-06-29T20:07:24.421713640Z"
    }
   },
   "outputs": [],
   "source": [
    "param = {}\n",
    "\n",
    "# Booster parameters\n",
    "param['eta']              = .1 # learning rate\n",
    "param['max_depth']        = 10 # maximum depth of a tree\n",
    "param['subsample']        = 1 # fraction of events to train tree on\n",
    "param['colsample_bytree'] = 1 # fraction of features to train tree on\n",
    "\n",
    "# Learning task parameters\n",
    "param['objective']   = 'binary:logistic' # objective function\n",
    "param['eval_metric'] = 'error'           # evaluation metric for cross validation\n",
    "param = list(param.items()) + [('eval_metric', 'logloss')] + [('eval_metric', 'rmse')]\n",
    "\n",
    "num_trees = 100 # number of trees to make"
   ]
  },
  {
   "cell_type": "code",
   "execution_count": 11,
   "id": "8a9d1051",
   "metadata": {
    "ExecuteTime": {
     "end_time": "2023-06-29T20:08:31.983667587Z",
     "start_time": "2023-06-29T20:07:24.584849238Z"
    }
   },
   "outputs": [],
   "source": [
    "booster = xgb.train(param,train,num_boost_round=num_trees)"
   ]
  },
  {
   "cell_type": "code",
   "execution_count": 12,
   "id": "468112ce",
   "metadata": {
    "ExecuteTime": {
     "end_time": "2023-06-29T20:08:35.597271781Z",
     "start_time": "2023-06-29T20:08:35.129485681Z"
    }
   },
   "outputs": [
    {
     "name": "stdout",
     "output_type": "stream",
     "text": [
      "[0]\teval-rmse:0.12198364576069227\teval-rmse:0.12198364576069227\teval-rmse:0.12198364576069227\n"
     ]
    }
   ],
   "source": [
    "print(booster.eval(test))"
   ]
  },
  {
   "cell_type": "code",
   "execution_count": 13,
   "id": "8d220abb",
   "metadata": {
    "ExecuteTime": {
     "end_time": "2023-06-29T20:08:39.764078973Z",
     "start_time": "2023-06-29T20:08:39.654988173Z"
    }
   },
   "outputs": [],
   "source": [
    "predictions = booster.predict(test)"
   ]
  },
  {
   "cell_type": "code",
   "execution_count": 14,
   "id": "c8eae0ef",
   "metadata": {
    "ExecuteTime": {
     "end_time": "2023-06-29T20:08:40.841824370Z",
     "start_time": "2023-06-29T20:08:40.408469671Z"
    }
   },
   "outputs": [
    {
     "data": {
      "image/png": "[encoded data removed]",
      "text/plain": [
       "<Figure size 432x288 with 1 Axes>"
      ]
     },
     "metadata": {
      "needs_background": "light"
     },
     "output_type": "display_data"
    },
    {
     "data": {
      "image/png": "[encoded data removed]",
      "text/plain": [
       "<Figure size 432x288 with 1 Axes>"
      ]
     },
     "metadata": {
      "needs_background": "light"
     },
     "output_type": "display_data"
    }
   ],
   "source": [
    "# plot all predictions (both signal and background)\n",
    "plt.figure();\n",
    "plt.hist(predictions,bins=np.linspace(0,1,50),histtype='step',color='darkgreen',label='All events');\n",
    "# make the plot readable\n",
    "plt.xlabel('Prediction from BDT',fontsize=12);\n",
    "plt.ylabel('Events',fontsize=12);\n",
    "plt.legend(frameon=False);\n",
    "\n",
    "# plot signal and background separately\n",
    "plt.figure();\n",
    "plt.hist(predictions[test.get_label().astype(bool)],bins=np.linspace(0,1,50),\n",
    "         histtype='step',color='midnightblue',label='muon');\n",
    "plt.hist(predictions[~(test.get_label().astype(bool))],bins=np.linspace(0,1,50),\n",
    "         histtype='step',color='firebrick',label='electron');\n",
    "# make the plot readable\n",
    "plt.xlabel('Prediction from BDT',fontsize=12);\n",
    "plt.ylabel('Events',fontsize=12);\n",
    "plt.legend(frameon=False);"
   ]
  },
  {
   "cell_type": "code",
   "execution_count": 15,
   "id": "52a1288d",
   "metadata": {
    "ExecuteTime": {
     "end_time": "2023-06-29T20:08:42.974752063Z",
     "start_time": "2023-06-29T20:08:41.411341868Z"
    }
   },
   "outputs": [
    {
     "name": "stderr",
     "output_type": "stream",
     "text": [
      "/tmp/ipykernel_1585/1500798442.py:11: RuntimeWarning: invalid value encountered in divide\n",
      "  plt.plot(nsignal/len(only_ecal_val_df[only_ecal_val_df.pdg_id == 11]),nsignal/(nsignal + nbackground),'o-',color='blueviolet');\n",
      "No artists with labels found to put in legend.  Note that artists whose label start with an underscore are ignored when legend() is called with no argument.\n"
     ]
    },
    {
     "data": {
      "image/png": "[encoded data removed]",
      "text/plain": [
       "<Figure size 432x288 with 1 Axes>"
      ]
     },
     "metadata": {
      "needs_background": "light"
     },
     "output_type": "display_data"
    }
   ],
   "source": [
    "# choose score cuts:\n",
    "cuts = np.linspace(0,1,500);\n",
    "nsignal = np.zeros(len(cuts));\n",
    "nbackground = np.zeros(len(cuts));\n",
    "for i,cut in enumerate(cuts):\n",
    "    nsignal[i] = len(np.where(predictions[test.get_label().astype(bool)] > cut)[0]);\n",
    "    nbackground[i] = len(np.where(predictions[~(test.get_label().astype(bool))] > cut)[0]);\n",
    "    \n",
    "# plot efficiency vs. purity (ROC curve)\n",
    "plt.figure();\n",
    "plt.plot(nsignal/len(only_ecal_val_df[only_ecal_val_df.pdg_id == 11]),nsignal/(nsignal + nbackground),'o-',color='blueviolet');\n",
    "# make the plot readable\n",
    "plt.xlabel('Efficiency',fontsize=12);\n",
    "plt.ylabel('Purity',fontsize=12);\n",
    "plt.legend(frameon=False);"
   ]
  },
  {
   "cell_type": "code",
   "execution_count": 16,
   "id": "12be6762",
   "metadata": {
    "ExecuteTime": {
     "end_time": "2023-06-29T20:08:45.470913756Z",
     "start_time": "2023-06-29T20:08:45.183055557Z"
    }
   },
   "outputs": [
    {
     "data": {
      "image/png": "[encoded data removed]",
      "text/plain": [
       "<Figure size 432x288 with 1 Axes>"
      ]
     },
     "metadata": {
      "needs_background": "light"
     },
     "output_type": "display_data"
    }
   ],
   "source": [
    "xgb.plot_importance(booster,grid=False);"
   ]
  },
  {
   "cell_type": "code",
   "execution_count": 17,
   "id": "216e5ba8",
   "metadata": {
    "ExecuteTime": {
     "end_time": "2023-06-29T20:08:47.125434051Z",
     "start_time": "2023-06-29T20:08:46.871589352Z"
    }
   },
   "outputs": [],
   "source": [
    "from sklearn import tree\n",
    "clf = tree.DecisionTreeClassifier()\n",
    "import time"
   ]
  },
  {
   "cell_type": "code",
   "execution_count": 18,
   "id": "f4eccd4e",
   "metadata": {
    "ExecuteTime": {
     "end_time": "2023-06-29T20:08:57.122034089Z",
     "start_time": "2023-06-29T20:08:48.565546426Z"
    }
   },
   "outputs": [
    {
     "name": "stdout",
     "output_type": "stream",
     "text": [
      "Training set score (should be very close to 1): 0.999962\n",
      "Test set score (how accurate the model is at classifying mu+/e-): 0.966188\n",
      "So using 179431 datapoints, we on average have a 3.381244043671383 % error\n",
      "CPU times: user 10.6 s, sys: 50.2 ms, total: 10.7 s\n",
      "Wall time: 10.7 s\n"
     ]
    }
   ],
   "source": [
    "%%time\n",
    "X_train = only_ecal_tr_df.drop(columns=['pdg_id']) #remove the 'truth' aka pdg_id column from the features dataset\n",
    "X_test = only_ecal_val_df.drop(columns=['pdg_id']) #same thing, but for the df for testing the model\n",
    "Y_train = only_ecal_tr_df['pdg_id'] #this is the df containing the truth values for the X_train features, aka which particle they are\n",
    "Y_test = only_ecal_val_df['pdg_id'] #contains truth values for the test set \n",
    "\n",
    "#check to make sure we have the same number of entries \n",
    "X_train.shape[0]==Y_train.shape[0]\n",
    "#we do the fitting here\n",
    "clf.fit(X_train, Y_train)\n",
    "#test the model \n",
    "clf.predict(X_test)\n",
    "X_test.shape\n",
    "print(\"Training set score (should be very close to 1): %f\" % clf.score(X_train, Y_train))\n",
    "print(\"Test set score (how accurate the model is at classifying mu+/e-): %f\" % clf.score(X_test, Y_test))\n",
    "print(f\"So using {X_test.shape[0]} datapoints, we on average have a {(1-clf.score(X_test,Y_test))*100} % error\")"
   ]
  },
  {
   "cell_type": "code",
   "execution_count": 19,
   "id": "076eaa9e",
   "metadata": {},
   "outputs": [
    {
     "data": {
      "text/html": [
       "<div>\n",
       "<style scoped>\n",
       "    .dataframe tbody tr th:only-of-type {\n",
       "        vertical-align: middle;\n",
       "    }\n",
       "\n",
       "    .dataframe tbody tr th {\n",
       "        vertical-align: top;\n",
       "    }\n",
       "\n",
       "    .dataframe thead th {\n",
       "        text-align: right;\n",
       "    }\n",
       "</style>\n",
       "<table border=\"1\" class=\"dataframe\">\n",
       "  <thead>\n",
       "    <tr style=\"text-align: right;\">\n",
       "      <th></th>\n",
       "      <th>energy</th>\n",
       "      <th>energy_cor</th>\n",
       "      <th>x</th>\n",
       "      <th>y</th>\n",
       "      <th>x_cor</th>\n",
       "      <th>y_cor</th>\n",
       "      <th>nhits</th>\n",
       "      <th>seed_e</th>\n",
       "      <th>seed_ix</th>\n",
       "      <th>seed_iy</th>\n",
       "    </tr>\n",
       "  </thead>\n",
       "  <tbody>\n",
       "    <tr>\n",
       "      <th>274142</th>\n",
       "      <td>0.111036</td>\n",
       "      <td>0.164877</td>\n",
       "      <td>354.448883</td>\n",
       "      <td>-28.447832</td>\n",
       "      <td>358.858917</td>\n",
       "      <td>-26.647461</td>\n",
       "      <td>1</td>\n",
       "      <td>0.111036</td>\n",
       "      <td>23</td>\n",
       "      <td>-1</td>\n",
       "    </tr>\n",
       "    <tr>\n",
       "      <th>167742</th>\n",
       "      <td>0.905950</td>\n",
       "      <td>1.062832</td>\n",
       "      <td>125.756477</td>\n",
       "      <td>-33.632824</td>\n",
       "      <td>126.334686</td>\n",
       "      <td>-31.725636</td>\n",
       "      <td>6</td>\n",
       "      <td>0.346043</td>\n",
       "      <td>7</td>\n",
       "      <td>-1</td>\n",
       "    </tr>\n",
       "    <tr>\n",
       "      <th>76197</th>\n",
       "      <td>2.215500</td>\n",
       "      <td>2.461305</td>\n",
       "      <td>63.033291</td>\n",
       "      <td>45.120964</td>\n",
       "      <td>64.111336</td>\n",
       "      <td>44.578712</td>\n",
       "      <td>7</td>\n",
       "      <td>1.641214</td>\n",
       "      <td>2</td>\n",
       "      <td>2</td>\n",
       "    </tr>\n",
       "    <tr>\n",
       "      <th>114250</th>\n",
       "      <td>1.962423</td>\n",
       "      <td>2.254361</td>\n",
       "      <td>-183.047348</td>\n",
       "      <td>-36.252159</td>\n",
       "      <td>-188.166107</td>\n",
       "      <td>-34.462418</td>\n",
       "      <td>6</td>\n",
       "      <td>1.009346</td>\n",
       "      <td>-17</td>\n",
       "      <td>-2</td>\n",
       "    </tr>\n",
       "    <tr>\n",
       "      <th>336241</th>\n",
       "      <td>0.168528</td>\n",
       "      <td>0.227479</td>\n",
       "      <td>290.772705</td>\n",
       "      <td>-28.430906</td>\n",
       "      <td>277.748932</td>\n",
       "      <td>-53.201836</td>\n",
       "      <td>2</td>\n",
       "      <td>0.109366</td>\n",
       "      <td>19</td>\n",
       "      <td>-1</td>\n",
       "    </tr>\n",
       "  </tbody>\n",
       "</table>\n",
       "</div>"
      ],
      "text/plain": [
       "          energy  energy_cor           x          y       x_cor      y_cor   \n",
       "274142  0.111036    0.164877  354.448883 -28.447832  358.858917 -26.647461  \\\n",
       "167742  0.905950    1.062832  125.756477 -33.632824  126.334686 -31.725636   \n",
       "76197   2.215500    2.461305   63.033291  45.120964   64.111336  44.578712   \n",
       "114250  1.962423    2.254361 -183.047348 -36.252159 -188.166107 -34.462418   \n",
       "336241  0.168528    0.227479  290.772705 -28.430906  277.748932 -53.201836   \n",
       "\n",
       "        nhits    seed_e  seed_ix  seed_iy  \n",
       "274142      1  0.111036       23       -1  \n",
       "167742      6  0.346043        7       -1  \n",
       "76197       7  1.641214        2        2  \n",
       "114250      6  1.009346      -17       -2  \n",
       "336241      2  0.109366       19       -1  "
      ]
     },
     "execution_count": 19,
     "metadata": {},
     "output_type": "execute_result"
    }
   ],
   "source": [
    "X_train.head()"
   ]
  },
  {
   "cell_type": "code",
   "execution_count": 20,
   "id": "3a348bb7",
   "metadata": {
    "ExecuteTime": {
     "end_time": "2023-06-29T20:20:04.511603400Z",
     "start_time": "2023-06-29T20:20:04.399623994Z"
    }
   },
   "outputs": [],
   "source": [
    "\n",
    "A = tree.DecisionTreeClassifier(max_depth=16)"
   ]
  },
  {
   "cell_type": "code",
   "execution_count": 21,
   "id": "6302164b",
   "metadata": {
    "ExecuteTime": {
     "end_time": "2023-06-29T20:20:05.966940165Z",
     "start_time": "2023-06-29T20:20:05.023387522Z"
    }
   },
   "outputs": [
    {
     "name": "stdout",
     "output_type": "stream",
     "text": [
      "So using 179431 datapoints, we on average have a 2.803863323505973 % error\n"
     ]
    }
   ],
   "source": [
    "\n",
    "A.fit(X_train, Y_train)\n",
    "A.predict(X_test)\n",
    "print(f\"So using {X_test.shape[0]} datapoints, we on average have a {(1-A.score(X_test,Y_test))*100} % error\")"
   ]
  },
  {
   "cell_type": "code",
   "execution_count": 22,
   "id": "f560c402",
   "metadata": {
    "ExecuteTime": {
     "end_time": "2023-06-29T20:19:59.337154790Z",
     "start_time": "2023-06-29T20:19:59.216775387Z"
    }
   },
   "outputs": [],
   "source": [
    "predict = A.predict(X_test)\n",
    "A_score = A.score(X_test,Y_test)"
   ]
  },
  {
   "cell_type": "code",
   "execution_count": 23,
   "id": "ee0daf23",
   "metadata": {
    "ExecuteTime": {
     "end_time": "2023-06-29T20:19:38.349754715Z",
     "start_time": "2023-06-29T20:19:38.116673610Z"
    }
   },
   "outputs": [
    {
     "name": "stdout",
     "output_type": "stream",
     "text": [
      "Test set score (how accurate the model is at classifying mu+/e-): 0.971961\n"
     ]
    }
   ],
   "source": [
    "print(\"Test set score (how accurate the model is at classifying mu+/e-): %f\" % A.score(X_test, Y_test))"
   ]
  },
  {
   "cell_type": "code",
   "execution_count": 24,
   "id": "133897c1",
   "metadata": {},
   "outputs": [
    {
     "data": {
      "text/plain": [
       "array([8.90696372e-01, 2.39115301e-02, 2.63909241e-02, 8.08557499e-03,\n",
       "       1.31414211e-02, 2.50494903e-02, 2.77489274e-03, 8.93772676e-03,\n",
       "       8.82788485e-04, 1.29279345e-04])"
      ]
     },
     "execution_count": 24,
     "metadata": {},
     "output_type": "execute_result"
    }
   ],
   "source": [
    "A.feature_importances_"
   ]
  },
  {
   "cell_type": "code",
   "execution_count": 25,
   "id": "2a2bca25",
   "metadata": {},
   "outputs": [],
   "source": [
    "from sklearn import metrics\n",
    "import sklearn"
   ]
  },
  {
   "cell_type": "code",
   "execution_count": 26,
   "id": "6a5d3771",
   "metadata": {},
   "outputs": [
    {
     "data": {
      "text/plain": [
       "0.9794121137469463"
      ]
     },
     "execution_count": 26,
     "metadata": {},
     "output_type": "execute_result"
    }
   ],
   "source": [
    "sklearn.metrics.f1_score(Y_test,predict, pos_label = -13)"
   ]
  },
  {
   "cell_type": "code",
   "execution_count": 27,
   "id": "15ec8641",
   "metadata": {},
   "outputs": [
    {
     "data": {
      "text/plain": [
       "array([8.90696372e-01, 2.39115301e-02, 2.63909241e-02, 8.08557499e-03,\n",
       "       1.31414211e-02, 2.50494903e-02, 2.77489274e-03, 8.93772676e-03,\n",
       "       8.82788485e-04, 1.29279345e-04])"
      ]
     },
     "execution_count": 27,
     "metadata": {},
     "output_type": "execute_result"
    }
   ],
   "source": [
    "A.classes_\n",
    "A.max_features_\n",
    "A.feature_names_in_\n",
    "A.feature_importances_"
   ]
  },
  {
   "cell_type": "code",
   "execution_count": 28,
   "id": "c983f5fd",
   "metadata": {},
   "outputs": [
    {
     "data": {
      "image/png": "[encoded data removed]",
      "text/plain": [
       "<Figure size 432x288 with 1 Axes>"
      ]
     },
     "metadata": {
      "needs_background": "light"
     },
     "output_type": "display_data"
    }
   ],
   "source": [
    "plt.bar(A.feature_names_in_,A.feature_importances_)\n",
    "plt.yscale('log')"
   ]
  },
  {
   "cell_type": "code",
   "execution_count": 29,
   "id": "a9b650fc",
   "metadata": {},
   "outputs": [
    {
     "data": {
      "text/plain": [
       "array([-13,  11], dtype=int32)"
      ]
     },
     "execution_count": 29,
     "metadata": {},
     "output_type": "execute_result"
    }
   ],
   "source": [
    "A.classes_\n"
   ]
  },
  {
   "cell_type": "code",
   "execution_count": 30,
   "id": "c1737a95",
   "metadata": {},
   "outputs": [
    {
     "data": {
      "text/plain": [
       "1"
      ]
     },
     "execution_count": 30,
     "metadata": {},
     "output_type": "execute_result"
    }
   ],
   "source": [
    "A.n_outputs_"
   ]
  },
  {
   "cell_type": "code",
   "execution_count": 31,
   "id": "67977e54",
   "metadata": {},
   "outputs": [],
   "source": [
    " from sklearn.ensemble import HistGradientBoostingClassifier"
   ]
  },
  {
   "cell_type": "code",
   "execution_count": 32,
   "id": "92fdc2b2",
   "metadata": {},
   "outputs": [],
   "source": [
    "\n",
    "hist_gradient_BC = HistGradientBoostingClassifier().fit(X_train,Y_train)"
   ]
  },
  {
   "cell_type": "code",
   "execution_count": 33,
   "id": "682aa586",
   "metadata": {},
   "outputs": [],
   "source": [
    "hist_score = hist_gradient_BC.score(X_test,Y_test)"
   ]
  },
  {
   "cell_type": "code",
   "execution_count": 34,
   "id": "8d370461",
   "metadata": {},
   "outputs": [
    {
     "name": "stdout",
     "output_type": "stream",
     "text": [
      " standard decision tree score: 0.9719613667649403, hist gradient score: 0.9776905885827979\n"
     ]
    }
   ],
   "source": [
    "print(f\" standard decision tree score: {A_score}, hist gradient score: {hist_score}\")"
   ]
  },
  {
   "cell_type": "code",
   "execution_count": 35,
   "id": "b3ad4d66",
   "metadata": {},
   "outputs": [
    {
     "name": "stdout",
     "output_type": "stream",
     "text": [
      "hist_gradient is 0.5729221817857622 % better than the standard classifier\n"
     ]
    }
   ],
   "source": [
    "print(f\"hist_gradient is {(hist_score - A_score)*100 } % better than the standard classifier\")"
   ]
  },
  {
   "cell_type": "code",
   "execution_count": 36,
   "id": "7ce23c6b",
   "metadata": {},
   "outputs": [
    {
     "data": {
      "text/plain": [
       "array([-4.10379026,  2.15523272,  4.69143893, ..., -7.07307344,\n",
       "       -6.39661674,  4.07339695])"
      ]
     },
     "execution_count": 36,
     "metadata": {},
     "output_type": "execute_result"
    }
   ],
   "source": [
    "hist_gradient_BC.decision_function(X_train)"
   ]
  },
  {
   "cell_type": "code",
   "execution_count": 37,
   "id": "adad8370",
   "metadata": {},
   "outputs": [],
   "source": [
    "emumu_1clus = pd.read_feather(\"emumu_test.feather\")"
   ]
  },
  {
   "cell_type": "code",
   "execution_count": 38,
   "id": "7c8ef39d",
   "metadata": {},
   "outputs": [
    {
     "data": {
      "text/plain": [
       "(1409, 11)"
      ]
     },
     "execution_count": 38,
     "metadata": {},
     "output_type": "execute_result"
    }
   ],
   "source": [
    "emumu_1clus.shape"
   ]
  },
  {
   "cell_type": "code",
   "execution_count": null,
   "id": "900345d2",
   "metadata": {},
   "outputs": [],
   "source": []
  },
  {
   "cell_type": "code",
   "execution_count": null,
   "id": "d4866ac1",
   "metadata": {},
   "outputs": [],
   "source": []
  },
  {
   "cell_type": "code",
   "execution_count": null,
   "id": "d0865794",
   "metadata": {},
   "outputs": [],
   "source": []
  },
  {
   "cell_type": "code",
   "execution_count": null,
   "id": "6f0a1c32",
   "metadata": {},
   "outputs": [],
   "source": []
  },
  {
   "cell_type": "code",
   "execution_count": 39,
   "id": "03c216c6",
   "metadata": {},
   "outputs": [],
   "source": [
    "#for fun we draw the tree\n",
    "#tree.plot_tree(clf)"
   ]
  },
  {
   "cell_type": "code",
   "execution_count": 40,
   "id": "127ef983",
   "metadata": {},
   "outputs": [
    {
     "ename": "KeyboardInterrupt",
     "evalue": "",
     "output_type": "error",
     "traceback": [
      "\u001b[0;31m---------------------------------------------------------------------------\u001b[0m",
      "\u001b[0;31mKeyboardInterrupt\u001b[0m                         Traceback (most recent call last)",
      "\u001b[0;32m/tmp/ipykernel_1585/781910877.py\u001b[0m in \u001b[0;36m<module>\u001b[0;34m\u001b[0m\n\u001b[1;32m      2\u001b[0m \u001b[0mdot_data\u001b[0m \u001b[0;34m=\u001b[0m \u001b[0mtree\u001b[0m\u001b[0;34m.\u001b[0m\u001b[0mexport_graphviz\u001b[0m\u001b[0;34m(\u001b[0m\u001b[0mclf\u001b[0m\u001b[0;34m,\u001b[0m \u001b[0mout_file\u001b[0m\u001b[0;34m=\u001b[0m\u001b[0;32mNone\u001b[0m\u001b[0;34m)\u001b[0m\u001b[0;34m\u001b[0m\u001b[0;34m\u001b[0m\u001b[0m\n\u001b[1;32m      3\u001b[0m \u001b[0mgraph\u001b[0m \u001b[0;34m=\u001b[0m \u001b[0mgraphviz\u001b[0m\u001b[0;34m.\u001b[0m\u001b[0mSource\u001b[0m\u001b[0;34m(\u001b[0m\u001b[0mdot_data\u001b[0m\u001b[0;34m)\u001b[0m\u001b[0;34m\u001b[0m\u001b[0;34m\u001b[0m\u001b[0m\n\u001b[0;32m----> 4\u001b[0;31m \u001b[0mgraph\u001b[0m\u001b[0;34m.\u001b[0m\u001b[0mrender\u001b[0m\u001b[0;34m(\u001b[0m\u001b[0;34m'mu+_vs_e-_tree'\u001b[0m\u001b[0;34m)\u001b[0m\u001b[0;34m\u001b[0m\u001b[0;34m\u001b[0m\u001b[0m\n\u001b[0m",
      "\u001b[0;32m~/.local/lib/python3.10/site-packages/graphviz/_tools.py\u001b[0m in \u001b[0;36mwrapper\u001b[0;34m(*args, **kwargs)\u001b[0m\n\u001b[1;32m    169\u001b[0m                               category=category)\n\u001b[1;32m    170\u001b[0m \u001b[0;34m\u001b[0m\u001b[0m\n\u001b[0;32m--> 171\u001b[0;31m             \u001b[0;32mreturn\u001b[0m \u001b[0mfunc\u001b[0m\u001b[0;34m(\u001b[0m\u001b[0;34m*\u001b[0m\u001b[0margs\u001b[0m\u001b[0;34m,\u001b[0m \u001b[0;34m**\u001b[0m\u001b[0mkwargs\u001b[0m\u001b[0;34m)\u001b[0m\u001b[0;34m\u001b[0m\u001b[0;34m\u001b[0m\u001b[0m\n\u001b[0m\u001b[1;32m    172\u001b[0m \u001b[0;34m\u001b[0m\u001b[0m\n\u001b[1;32m    173\u001b[0m         \u001b[0;32mreturn\u001b[0m \u001b[0mwrapper\u001b[0m\u001b[0;34m\u001b[0m\u001b[0;34m\u001b[0m\u001b[0m\n",
      "\u001b[0;32m~/.local/lib/python3.10/site-packages/graphviz/rendering.py\u001b[0m in \u001b[0;36mrender\u001b[0;34m(self, filename, directory, view, cleanup, format, renderer, formatter, neato_no_op, quiet, quiet_view, outfile, engine, raise_if_result_exists, overwrite_source)\u001b[0m\n\u001b[1;32m    120\u001b[0m         \u001b[0margs\u001b[0m\u001b[0;34m.\u001b[0m\u001b[0mappend\u001b[0m\u001b[0;34m(\u001b[0m\u001b[0mfilepath\u001b[0m\u001b[0;34m)\u001b[0m\u001b[0;34m\u001b[0m\u001b[0;34m\u001b[0m\u001b[0m\n\u001b[1;32m    121\u001b[0m \u001b[0;34m\u001b[0m\u001b[0m\n\u001b[0;32m--> 122\u001b[0;31m         \u001b[0mrendered\u001b[0m \u001b[0;34m=\u001b[0m \u001b[0mself\u001b[0m\u001b[0;34m.\u001b[0m\u001b[0m_render\u001b[0m\u001b[0;34m(\u001b[0m\u001b[0;34m*\u001b[0m\u001b[0margs\u001b[0m\u001b[0;34m,\u001b[0m \u001b[0;34m**\u001b[0m\u001b[0mkwargs\u001b[0m\u001b[0;34m)\u001b[0m\u001b[0;34m\u001b[0m\u001b[0;34m\u001b[0m\u001b[0m\n\u001b[0m\u001b[1;32m    123\u001b[0m \u001b[0;34m\u001b[0m\u001b[0m\n\u001b[1;32m    124\u001b[0m         \u001b[0;32mif\u001b[0m \u001b[0mcleanup\u001b[0m\u001b[0;34m:\u001b[0m\u001b[0;34m\u001b[0m\u001b[0;34m\u001b[0m\u001b[0m\n",
      "\u001b[0;32m~/.local/lib/python3.10/site-packages/graphviz/_tools.py\u001b[0m in \u001b[0;36mwrapper\u001b[0;34m(*args, **kwargs)\u001b[0m\n\u001b[1;32m    169\u001b[0m                               category=category)\n\u001b[1;32m    170\u001b[0m \u001b[0;34m\u001b[0m\u001b[0m\n\u001b[0;32m--> 171\u001b[0;31m             \u001b[0;32mreturn\u001b[0m \u001b[0mfunc\u001b[0m\u001b[0;34m(\u001b[0m\u001b[0;34m*\u001b[0m\u001b[0margs\u001b[0m\u001b[0;34m,\u001b[0m \u001b[0;34m**\u001b[0m\u001b[0mkwargs\u001b[0m\u001b[0;34m)\u001b[0m\u001b[0;34m\u001b[0m\u001b[0;34m\u001b[0m\u001b[0m\n\u001b[0m\u001b[1;32m    172\u001b[0m \u001b[0;34m\u001b[0m\u001b[0m\n\u001b[1;32m    173\u001b[0m         \u001b[0;32mreturn\u001b[0m \u001b[0mwrapper\u001b[0m\u001b[0;34m\u001b[0m\u001b[0;34m\u001b[0m\u001b[0m\n",
      "\u001b[0;32m~/.local/lib/python3.10/site-packages/graphviz/backend/rendering.py\u001b[0m in \u001b[0;36mrender\u001b[0;34m(engine, format, filepath, renderer, formatter, neato_no_op, quiet, outfile, raise_if_result_exists, overwrite_filepath)\u001b[0m\n\u001b[1;32m    322\u001b[0m     \u001b[0mcmd\u001b[0m \u001b[0;34m+=\u001b[0m \u001b[0margs\u001b[0m\u001b[0;34m\u001b[0m\u001b[0;34m\u001b[0m\u001b[0m\n\u001b[1;32m    323\u001b[0m \u001b[0;34m\u001b[0m\u001b[0m\n\u001b[0;32m--> 324\u001b[0;31m     execute.run_check(cmd,\n\u001b[0m\u001b[1;32m    325\u001b[0m                       \u001b[0mcwd\u001b[0m\u001b[0;34m=\u001b[0m\u001b[0mfilepath\u001b[0m\u001b[0;34m.\u001b[0m\u001b[0mparent\u001b[0m \u001b[0;32mif\u001b[0m \u001b[0mfilepath\u001b[0m\u001b[0;34m.\u001b[0m\u001b[0mparent\u001b[0m\u001b[0;34m.\u001b[0m\u001b[0mparts\u001b[0m \u001b[0;32melse\u001b[0m \u001b[0;32mNone\u001b[0m\u001b[0;34m,\u001b[0m\u001b[0;34m\u001b[0m\u001b[0;34m\u001b[0m\u001b[0m\n\u001b[1;32m    326\u001b[0m                       \u001b[0mquiet\u001b[0m\u001b[0;34m=\u001b[0m\u001b[0mquiet\u001b[0m\u001b[0;34m,\u001b[0m\u001b[0;34m\u001b[0m\u001b[0;34m\u001b[0m\u001b[0m\n",
      "\u001b[0;32m~/.local/lib/python3.10/site-packages/graphviz/backend/execute.py\u001b[0m in \u001b[0;36mrun_check\u001b[0;34m(cmd, input_lines, encoding, quiet, **kwargs)\u001b[0m\n\u001b[1;32m     79\u001b[0m             \u001b[0mproc\u001b[0m \u001b[0;34m=\u001b[0m \u001b[0m_run_input_lines\u001b[0m\u001b[0;34m(\u001b[0m\u001b[0mcmd\u001b[0m\u001b[0;34m,\u001b[0m \u001b[0minput_lines\u001b[0m\u001b[0;34m,\u001b[0m \u001b[0mkwargs\u001b[0m\u001b[0;34m=\u001b[0m\u001b[0mkwargs\u001b[0m\u001b[0;34m)\u001b[0m\u001b[0;34m\u001b[0m\u001b[0;34m\u001b[0m\u001b[0m\n\u001b[1;32m     80\u001b[0m         \u001b[0;32melse\u001b[0m\u001b[0;34m:\u001b[0m\u001b[0;34m\u001b[0m\u001b[0;34m\u001b[0m\u001b[0m\n\u001b[0;32m---> 81\u001b[0;31m             \u001b[0mproc\u001b[0m \u001b[0;34m=\u001b[0m \u001b[0msubprocess\u001b[0m\u001b[0;34m.\u001b[0m\u001b[0mrun\u001b[0m\u001b[0;34m(\u001b[0m\u001b[0mcmd\u001b[0m\u001b[0;34m,\u001b[0m \u001b[0;34m**\u001b[0m\u001b[0mkwargs\u001b[0m\u001b[0;34m)\u001b[0m\u001b[0;34m\u001b[0m\u001b[0;34m\u001b[0m\u001b[0m\n\u001b[0m\u001b[1;32m     82\u001b[0m     \u001b[0;32mexcept\u001b[0m \u001b[0mOSError\u001b[0m \u001b[0;32mas\u001b[0m \u001b[0me\u001b[0m\u001b[0;34m:\u001b[0m\u001b[0;34m\u001b[0m\u001b[0;34m\u001b[0m\u001b[0m\n\u001b[1;32m     83\u001b[0m         \u001b[0;32mif\u001b[0m \u001b[0me\u001b[0m\u001b[0;34m.\u001b[0m\u001b[0merrno\u001b[0m \u001b[0;34m==\u001b[0m \u001b[0merrno\u001b[0m\u001b[0;34m.\u001b[0m\u001b[0mENOENT\u001b[0m\u001b[0;34m:\u001b[0m\u001b[0;34m\u001b[0m\u001b[0;34m\u001b[0m\u001b[0m\n",
      "\u001b[0;32m/usr/lib/python3.10/subprocess.py\u001b[0m in \u001b[0;36mrun\u001b[0;34m(input, capture_output, timeout, check, *popenargs, **kwargs)\u001b[0m\n\u001b[1;32m    501\u001b[0m     \u001b[0;32mwith\u001b[0m \u001b[0mPopen\u001b[0m\u001b[0;34m(\u001b[0m\u001b[0;34m*\u001b[0m\u001b[0mpopenargs\u001b[0m\u001b[0;34m,\u001b[0m \u001b[0;34m**\u001b[0m\u001b[0mkwargs\u001b[0m\u001b[0;34m)\u001b[0m \u001b[0;32mas\u001b[0m \u001b[0mprocess\u001b[0m\u001b[0;34m:\u001b[0m\u001b[0;34m\u001b[0m\u001b[0;34m\u001b[0m\u001b[0m\n\u001b[1;32m    502\u001b[0m         \u001b[0;32mtry\u001b[0m\u001b[0;34m:\u001b[0m\u001b[0;34m\u001b[0m\u001b[0;34m\u001b[0m\u001b[0m\n\u001b[0;32m--> 503\u001b[0;31m             \u001b[0mstdout\u001b[0m\u001b[0;34m,\u001b[0m \u001b[0mstderr\u001b[0m \u001b[0;34m=\u001b[0m \u001b[0mprocess\u001b[0m\u001b[0;34m.\u001b[0m\u001b[0mcommunicate\u001b[0m\u001b[0;34m(\u001b[0m\u001b[0minput\u001b[0m\u001b[0;34m,\u001b[0m \u001b[0mtimeout\u001b[0m\u001b[0;34m=\u001b[0m\u001b[0mtimeout\u001b[0m\u001b[0;34m)\u001b[0m\u001b[0;34m\u001b[0m\u001b[0;34m\u001b[0m\u001b[0m\n\u001b[0m\u001b[1;32m    504\u001b[0m         \u001b[0;32mexcept\u001b[0m \u001b[0mTimeoutExpired\u001b[0m \u001b[0;32mas\u001b[0m \u001b[0mexc\u001b[0m\u001b[0;34m:\u001b[0m\u001b[0;34m\u001b[0m\u001b[0;34m\u001b[0m\u001b[0m\n\u001b[1;32m    505\u001b[0m             \u001b[0mprocess\u001b[0m\u001b[0;34m.\u001b[0m\u001b[0mkill\u001b[0m\u001b[0;34m(\u001b[0m\u001b[0;34m)\u001b[0m\u001b[0;34m\u001b[0m\u001b[0;34m\u001b[0m\u001b[0m\n",
      "\u001b[0;32m/usr/lib/python3.10/subprocess.py\u001b[0m in \u001b[0;36mcommunicate\u001b[0;34m(self, input, timeout)\u001b[0m\n\u001b[1;32m   1150\u001b[0m \u001b[0;34m\u001b[0m\u001b[0m\n\u001b[1;32m   1151\u001b[0m             \u001b[0;32mtry\u001b[0m\u001b[0;34m:\u001b[0m\u001b[0;34m\u001b[0m\u001b[0;34m\u001b[0m\u001b[0m\n\u001b[0;32m-> 1152\u001b[0;31m                 \u001b[0mstdout\u001b[0m\u001b[0;34m,\u001b[0m \u001b[0mstderr\u001b[0m \u001b[0;34m=\u001b[0m \u001b[0mself\u001b[0m\u001b[0;34m.\u001b[0m\u001b[0m_communicate\u001b[0m\u001b[0;34m(\u001b[0m\u001b[0minput\u001b[0m\u001b[0;34m,\u001b[0m \u001b[0mendtime\u001b[0m\u001b[0;34m,\u001b[0m \u001b[0mtimeout\u001b[0m\u001b[0;34m)\u001b[0m\u001b[0;34m\u001b[0m\u001b[0;34m\u001b[0m\u001b[0m\n\u001b[0m\u001b[1;32m   1153\u001b[0m             \u001b[0;32mexcept\u001b[0m \u001b[0mKeyboardInterrupt\u001b[0m\u001b[0;34m:\u001b[0m\u001b[0;34m\u001b[0m\u001b[0;34m\u001b[0m\u001b[0m\n\u001b[1;32m   1154\u001b[0m                 \u001b[0;31m# https://bugs.python.org/issue25942\u001b[0m\u001b[0;34m\u001b[0m\u001b[0;34m\u001b[0m\u001b[0m\n",
      "\u001b[0;32m/usr/lib/python3.10/subprocess.py\u001b[0m in \u001b[0;36m_communicate\u001b[0;34m(self, input, endtime, orig_timeout)\u001b[0m\n\u001b[1;32m   2001\u001b[0m                             'failed to raise TimeoutExpired.')\n\u001b[1;32m   2002\u001b[0m \u001b[0;34m\u001b[0m\u001b[0m\n\u001b[0;32m-> 2003\u001b[0;31m                     \u001b[0mready\u001b[0m \u001b[0;34m=\u001b[0m \u001b[0mselector\u001b[0m\u001b[0;34m.\u001b[0m\u001b[0mselect\u001b[0m\u001b[0;34m(\u001b[0m\u001b[0mtimeout\u001b[0m\u001b[0;34m)\u001b[0m\u001b[0;34m\u001b[0m\u001b[0;34m\u001b[0m\u001b[0m\n\u001b[0m\u001b[1;32m   2004\u001b[0m                     \u001b[0mself\u001b[0m\u001b[0;34m.\u001b[0m\u001b[0m_check_timeout\u001b[0m\u001b[0;34m(\u001b[0m\u001b[0mendtime\u001b[0m\u001b[0;34m,\u001b[0m \u001b[0morig_timeout\u001b[0m\u001b[0;34m,\u001b[0m \u001b[0mstdout\u001b[0m\u001b[0;34m,\u001b[0m \u001b[0mstderr\u001b[0m\u001b[0;34m)\u001b[0m\u001b[0;34m\u001b[0m\u001b[0;34m\u001b[0m\u001b[0m\n\u001b[1;32m   2005\u001b[0m \u001b[0;34m\u001b[0m\u001b[0m\n",
      "\u001b[0;32m/usr/lib/python3.10/selectors.py\u001b[0m in \u001b[0;36mselect\u001b[0;34m(self, timeout)\u001b[0m\n\u001b[1;32m    414\u001b[0m         \u001b[0mready\u001b[0m \u001b[0;34m=\u001b[0m \u001b[0;34m[\u001b[0m\u001b[0;34m]\u001b[0m\u001b[0;34m\u001b[0m\u001b[0;34m\u001b[0m\u001b[0m\n\u001b[1;32m    415\u001b[0m         \u001b[0;32mtry\u001b[0m\u001b[0;34m:\u001b[0m\u001b[0;34m\u001b[0m\u001b[0;34m\u001b[0m\u001b[0m\n\u001b[0;32m--> 416\u001b[0;31m             \u001b[0mfd_event_list\u001b[0m \u001b[0;34m=\u001b[0m \u001b[0mself\u001b[0m\u001b[0;34m.\u001b[0m\u001b[0m_selector\u001b[0m\u001b[0;34m.\u001b[0m\u001b[0mpoll\u001b[0m\u001b[0;34m(\u001b[0m\u001b[0mtimeout\u001b[0m\u001b[0;34m)\u001b[0m\u001b[0;34m\u001b[0m\u001b[0;34m\u001b[0m\u001b[0m\n\u001b[0m\u001b[1;32m    417\u001b[0m         \u001b[0;32mexcept\u001b[0m \u001b[0mInterruptedError\u001b[0m\u001b[0;34m:\u001b[0m\u001b[0;34m\u001b[0m\u001b[0;34m\u001b[0m\u001b[0m\n\u001b[1;32m    418\u001b[0m             \u001b[0;32mreturn\u001b[0m \u001b[0mready\u001b[0m\u001b[0;34m\u001b[0m\u001b[0;34m\u001b[0m\u001b[0m\n",
      "\u001b[0;31mKeyboardInterrupt\u001b[0m: "
     ]
    }
   ],
   "source": [
    "import graphviz \n",
    "dot_data = tree.export_graphviz(clf, out_file=None)\n",
    "graph = graphviz.Source(dot_data) \n",
    "graph.render('mu+_vs_e-_tree') "
   ]
  },
  {
   "cell_type": "code",
   "execution_count": null,
   "id": "53bbc428",
   "metadata": {},
   "outputs": [],
   "source": []
  }
 ],
 "metadata": {
  "kernelspec": {
   "display_name": "Python 3 (ipykernel)",
   "language": "python",
   "name": "python3"
  },
  "language_info": {
   "codemirror_mode": {
    "name": "ipython",
    "version": 3
   },
   "file_extension": ".py",
   "mimetype": "text/x-python",
   "name": "python",
   "nbconvert_exporter": "python",
   "pygments_lexer": "ipython3",
   "version": "3.10.6"
  }
 },
 "nbformat": 4,
 "nbformat_minor": 5
}
