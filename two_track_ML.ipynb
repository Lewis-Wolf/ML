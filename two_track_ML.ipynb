{
 "cells": [
  {
   "cell_type": "code",
   "execution_count": 1,
   "id": "d0cf7416",
   "metadata": {},
   "outputs": [
    {
     "name": "stdout",
     "output_type": "stream",
     "text": [
      "Welcome to JupyROOT 6.28/02\n"
     ]
    }
   ],
   "source": [
    "import ROOT as R\n",
    "R.gSystem.Load(\"libMiniDst\")\n",
    "import numpy as np\n",
    "import pandas as pd\n",
    "import sklearn\n",
    "from sklearn import tree\n",
    "from sklearn import metrics\n",
    "from sklearn.ensemble import HistGradientBoostingClassifier\n",
    "import plotly.express as px\n",
    "import matplotlib.pyplot as plt"
   ]
  },
  {
   "cell_type": "code",
   "execution_count": 2,
   "id": "c1a3f0cf",
   "metadata": {},
   "outputs": [
    {
     "name": "stdout",
     "output_type": "stream",
     "text": [
      "Loaded 92,670 events (9.27e+04)\n",
      "MiniDST version = 1.1.0\n"
     ]
    }
   ],
   "source": [
    "ch = R.TChain(\"MiniDST\")\n",
    "#ch.Add(\"/home/lwolf/Analysis/MC2021/events_4p55GeV_000*\")\n",
    "ch.Add(\"/home/lwolf/Analysis/MC2021/events_4p55GeV*\")\n",
    "\n",
    "print(f\"Loaded {ch.GetEntries():,d} events ({ch.GetEntries():7.2e})\")\n",
    "df = R.RDataFrame(ch)\n",
    "\n",
    "mdst = R.MiniDst()          # Initiate the class\n",
    "mdst.use_mc_particles=True  # Tell it to look for the MC Particles in the TTree\n",
    "mdst.use_ecal_cluster_uncor = True\n",
    "mdst.use_mc_scoring =True\n",
    "mdst.DefineBranchMap()      # Define the map of all the branches to the contents of the TTree\n",
    "mdst.SetBranchAddressesOnTree(ch) # Connect the TChain (which contains the TTree) to the class.\n",
    "print(f\"MiniDST version = {mdst._version_()}\")"
   ]
  },
  {
   "cell_type": "code",
   "execution_count": 4,
   "id": "4f39a564",
   "metadata": {},
   "outputs": [
    {
     "name": "stdout",
     "output_type": "stream",
     "text": [
      "Available data names in Tuple:\n",
      "\n",
      "ecal_cluster_energy           ecal_cluster_hits             ecal_cluster_mc_id            ecal_cluster_mc_pdg           \n",
      "ecal_cluster_mc_pdg_purity    ecal_cluster_nhits            ecal_cluster_seed_energy      ecal_cluster_seed_index       \n",
      "ecal_cluster_seed_ix          ecal_cluster_seed_iy          ecal_cluster_time             ecal_cluster_uncor_energy     \n",
      "ecal_cluster_uncor_hits       ecal_cluster_uncor_nhits      ecal_cluster_uncor_seed_energyecal_cluster_uncor_seed_index \n",
      "ecal_cluster_uncor_seed_ix    ecal_cluster_uncor_seed_iy    ecal_cluster_uncor_time       ecal_cluster_uncor_x          \n",
      "ecal_cluster_uncor_y          ecal_cluster_uncor_z          ecal_cluster_x                ecal_cluster_y                \n",
      "ecal_cluster_z                ecal_hit_energy               ecal_hit_index_x              ecal_hit_index_y              \n",
      "ecal_hit_mc_contrib_ec        ecal_hit_mc_contrib_id        ecal_hit_mc_contrib_pdg       ecal_hit_mc_parent_id         \n",
      "ecal_hit_mc_parent_pdg        ecal_hit_time                 ecal_hit_x                    ecal_hit_y                    \n",
      "ecal_hit_z                    "
     ]
    }
   ],
   "source": [
    "print(\"Available data names in Tuple:\")\n",
    "ColumnNames=df.GetColumnNames()\n",
    "ll = 0\n",
    "pr_colnames = [x for x in ColumnNames if str(x).startswith('ecal')]\n",
    "for nn in pr_colnames:\n",
    "    if ll < len(nn):\n",
    "        ll = len(nn)\n",
    "for n in range(len(pr_colnames)):\n",
    "    if n%4 == 0:\n",
    "        print(\"\")\n",
    "    print(f\"{str(pr_colnames[n]):{ll}s}\",end=\"\")"
   ]
  },
  {
   "cell_type": "code",
   "execution_count": 5,
   "id": "1f49be6a",
   "metadata": {},
   "outputs": [
    {
     "name": "stdout",
     "output_type": "stream",
     "text": [
      "Processing event      0/92670\n",
      "Processing event  10000/92670\n",
      "Processing event  20000/92670\n",
      "Processing event  30000/92670\n",
      "Processing event  40000/92670\n",
      "Processing event  50000/92670\n",
      "Processing event  60000/92670\n",
      "Processing event  70000/92670\n",
      "Processing event  80000/92670\n",
      "Processing event  90000/92670\n",
      "CPU times: user 24.5 s, sys: 3.83 s, total: 28.3 s\n",
      "Wall time: 28.2 s\n"
     ]
    }
   ],
   "source": [
    "%%time\n",
    "#this is the snippet of code that creates the data to be fed into a pandas dataframe\n",
    "data_dict = {i:[] for i in pr_colnames}  \n",
    "event_dict = {} \n",
    "event_dict['event_id'] = [] \n",
    "for event in list(range(0,ch.GetEntries())): \n",
    "    ch.GetEntry(event) \n",
    "    n_clusters = 0 \n",
    "    if event % 10000 == 0:\n",
    "        print(f\"Processing event {event:6d}/{ch.GetEntries()}\")\n",
    "    while len(mdst.ecal_cluster_energy) > n_clusters: \n",
    "        n_clusters+=1 \n",
    "        event_dict['event_id'].append(int(event))\n",
    "        for data_name in pr_colnames:\n",
    "            x = getattr(mdst,str(data_name))\n",
    "            data_dict[data_name].append(x[n_clusters-1])\n",
    "            "
   ]
  },
  {
   "cell_type": "code",
   "execution_count": 6,
   "id": "847365e8",
   "metadata": {},
   "outputs": [
    {
     "name": "stdout",
     "output_type": "stream",
     "text": [
      "Number of rows in df: 154355\n"
     ]
    }
   ],
   "source": [
    "#now create a pandas df with the data dictionary\n",
    "event_dict.update(data_dict)\n",
    "event_dict.keys() #finally looking okay \n",
    "dict_for_df = {'event_id':event_dict['event_id'],'energy':event_dict['ecal_cluster_uncor_energy'],'x':event_dict['ecal_cluster_uncor_x'],\n",
    "               'y':event_dict['ecal_cluster_uncor_y'],'nhits':event_dict['ecal_cluster_uncor_nhits'],'seed_e':event_dict['ecal_cluster_seed_energy'],\n",
    "              'seed_ix':event_dict['ecal_cluster_seed_ix'],'seed_iy':event_dict['ecal_cluster_seed_iy'],'true_pdg':event_dict['ecal_cluster_mc_pdg'],\n",
    "              'true_pdg_purity':event_dict['ecal_cluster_mc_pdg_purity']}\n",
    "pandas_df = pd.DataFrame(dict_for_df)\n",
    "pandas_training_df = pandas_df.iloc[0:100000]\n",
    "pandas_validation_df = pandas_df.iloc[100000:]\n",
    "print(f\"Number of rows in df: {len(pandas_df)}\")"
   ]
  },
  {
   "cell_type": "code",
   "execution_count": 20,
   "id": "e7c47de6",
   "metadata": {},
   "outputs": [
    {
     "data": {
      "text/html": [
       "<div>\n",
       "<style scoped>\n",
       "    .dataframe tbody tr th:only-of-type {\n",
       "        vertical-align: middle;\n",
       "    }\n",
       "\n",
       "    .dataframe tbody tr th {\n",
       "        vertical-align: top;\n",
       "    }\n",
       "\n",
       "    .dataframe thead th {\n",
       "        text-align: right;\n",
       "    }\n",
       "</style>\n",
       "<table border=\"1\" class=\"dataframe\">\n",
       "  <thead>\n",
       "    <tr style=\"text-align: right;\">\n",
       "      <th></th>\n",
       "      <th>event_id</th>\n",
       "      <th>energy</th>\n",
       "      <th>x</th>\n",
       "      <th>y</th>\n",
       "      <th>nhits</th>\n",
       "      <th>seed_e</th>\n",
       "      <th>seed_ix</th>\n",
       "      <th>seed_iy</th>\n",
       "      <th>true_pdg</th>\n",
       "      <th>true_pdg_purity</th>\n",
       "    </tr>\n",
       "  </thead>\n",
       "  <tbody>\n",
       "    <tr>\n",
       "      <th>2</th>\n",
       "      <td>1</td>\n",
       "      <td>0.172618</td>\n",
       "      <td>296.936066</td>\n",
       "      <td>43.050941</td>\n",
       "      <td>1</td>\n",
       "      <td>0.172618</td>\n",
       "      <td>19</td>\n",
       "      <td>2</td>\n",
       "      <td>13</td>\n",
       "      <td>1.0</td>\n",
       "    </tr>\n",
       "    <tr>\n",
       "      <th>3</th>\n",
       "      <td>2</td>\n",
       "      <td>0.183210</td>\n",
       "      <td>171.653870</td>\n",
       "      <td>56.657227</td>\n",
       "      <td>1</td>\n",
       "      <td>0.183210</td>\n",
       "      <td>10</td>\n",
       "      <td>3</td>\n",
       "      <td>13</td>\n",
       "      <td>1.0</td>\n",
       "    </tr>\n",
       "    <tr>\n",
       "      <th>6</th>\n",
       "      <td>4</td>\n",
       "      <td>0.151605</td>\n",
       "      <td>-141.406128</td>\n",
       "      <td>-28.417202</td>\n",
       "      <td>1</td>\n",
       "      <td>0.151605</td>\n",
       "      <td>-14</td>\n",
       "      <td>-1</td>\n",
       "      <td>-13</td>\n",
       "      <td>1.0</td>\n",
       "    </tr>\n",
       "    <tr>\n",
       "      <th>11</th>\n",
       "      <td>7</td>\n",
       "      <td>0.182258</td>\n",
       "      <td>212.916061</td>\n",
       "      <td>-42.097954</td>\n",
       "      <td>1</td>\n",
       "      <td>0.182258</td>\n",
       "      <td>13</td>\n",
       "      <td>-2</td>\n",
       "      <td>13</td>\n",
       "      <td>1.0</td>\n",
       "    </tr>\n",
       "    <tr>\n",
       "      <th>12</th>\n",
       "      <td>7</td>\n",
       "      <td>0.173926</td>\n",
       "      <td>-58.985336</td>\n",
       "      <td>42.969273</td>\n",
       "      <td>1</td>\n",
       "      <td>0.173926</td>\n",
       "      <td>-8</td>\n",
       "      <td>2</td>\n",
       "      <td>-13</td>\n",
       "      <td>1.0</td>\n",
       "    </tr>\n",
       "  </tbody>\n",
       "</table>\n",
       "</div>"
      ],
      "text/plain": [
       "    event_id    energy           x          y  nhits    seed_e  seed_ix   \n",
       "2          1  0.172618  296.936066  43.050941      1  0.172618       19  \\\n",
       "3          2  0.183210  171.653870  56.657227      1  0.183210       10   \n",
       "6          4  0.151605 -141.406128 -28.417202      1  0.151605      -14   \n",
       "11         7  0.182258  212.916061 -42.097954      1  0.182258       13   \n",
       "12         7  0.173926  -58.985336  42.969273      1  0.173926       -8   \n",
       "\n",
       "    seed_iy  true_pdg  true_pdg_purity  \n",
       "2         2        13              1.0  \n",
       "3         3        13              1.0  \n",
       "6        -1       -13              1.0  \n",
       "11       -2        13              1.0  \n",
       "12        2       -13              1.0  "
      ]
     },
     "execution_count": 20,
     "metadata": {},
     "output_type": "execute_result"
    }
   ],
   "source": [
    "muons=pandas_df.loc[np.abs(pandas_df['true_pdg'])>12].loc[pandas_df['nhits']==1]\n",
    "muons.head()\n",
    "#muons.shape[0]"
   ]
  },
  {
   "cell_type": "code",
   "execution_count": 22,
   "id": "2e59527e",
   "metadata": {},
   "outputs": [
    {
     "name": "stdout",
     "output_type": "stream",
     "text": [
      "42299 muon pairs found\n",
      "stored muon pair events into individual rows in muons_pairs dataframe\n"
     ]
    }
   ],
   "source": [
    "# create a dataframe containing only mup mum pairs and electrons\n",
    "event_id = []\n",
    "x = []\n",
    "y=[]\n",
    "nhits= []\n",
    "true_pdg = []\n",
    "energy = []\n",
    "seed_e = []\n",
    "npairs = 0\n",
    "\n",
    "for i in list(range(0,muons.shape[0]-1)):\n",
    "    \n",
    "    first_x = muons['x'].iloc[i]\n",
    "    second_x = muons['x'].iloc[i+1]\n",
    "    first_y = muons['y'].iloc[i]\n",
    "    second_y = muons['y'].iloc[i+1]\n",
    "    first_pdg = muons['true_pdg'].iloc[i]\n",
    "    second_pdg = muons['true_pdg'].iloc[i+1] \n",
    "      \n",
    "    if float(first_x*second_x) and float(first_y*second_y) and float(first_pdg*second_pdg) < 0: #this is what selects the pairs\n",
    "        npairs+=1\n",
    "        event_id.append(muons['event_id'].iloc[i])\n",
    "        event_id.append(muons['event_id'].iloc[i+1])\n",
    "        x.append(muons['x'].iloc[i])\n",
    "        x.append(muons['x'].iloc[i+1])\n",
    "        y.append(muons['y'].iloc[i])\n",
    "        y.append(muons['y'].iloc[i+1])\n",
    "        true_pdg.append(muons['true_pdg'].iloc[i])\n",
    "        true_pdg.append(muons['true_pdg'].iloc[i+1])\n",
    "        energy.append(muons['energy'].iloc[i])\n",
    "        energy.append(muons['energy'].iloc[i+1])\n",
    "        seed_e.append(muons['seed_e'].iloc[i])\n",
    "        seed_e.append(muons['seed_e'].iloc[i+1])\n",
    "\n",
    "        \n",
    "print(f\"{npairs} muon pairs found\")        \n",
    "data = {'event_id':event_id,'x':x,'y':y,'energy':energy,'seed_e':seed_e,'true_pdg':true_pdg}\n",
    "muons_pairs = pd.DataFrame(data) \n",
    "print(f\"stored muon pair events into individual rows in muons_pairs dataframe\")"
   ]
  },
  {
   "cell_type": "code",
   "execution_count": 23,
   "id": "c30588c0",
   "metadata": {},
   "outputs": [
    {
     "data": {
      "text/html": [
       "<div>\n",
       "<style scoped>\n",
       "    .dataframe tbody tr th:only-of-type {\n",
       "        vertical-align: middle;\n",
       "    }\n",
       "\n",
       "    .dataframe tbody tr th {\n",
       "        vertical-align: top;\n",
       "    }\n",
       "\n",
       "    .dataframe thead th {\n",
       "        text-align: right;\n",
       "    }\n",
       "</style>\n",
       "<table border=\"1\" class=\"dataframe\">\n",
       "  <thead>\n",
       "    <tr style=\"text-align: right;\">\n",
       "      <th></th>\n",
       "      <th>event_id</th>\n",
       "      <th>x</th>\n",
       "      <th>y</th>\n",
       "      <th>energy</th>\n",
       "      <th>seed_e</th>\n",
       "      <th>true_pdg</th>\n",
       "    </tr>\n",
       "  </thead>\n",
       "  <tbody>\n",
       "    <tr>\n",
       "      <th>0</th>\n",
       "      <td>2</td>\n",
       "      <td>171.653870</td>\n",
       "      <td>56.657227</td>\n",
       "      <td>0.183210</td>\n",
       "      <td>0.183210</td>\n",
       "      <td>13</td>\n",
       "    </tr>\n",
       "    <tr>\n",
       "      <th>1</th>\n",
       "      <td>4</td>\n",
       "      <td>-141.406128</td>\n",
       "      <td>-28.417202</td>\n",
       "      <td>0.151605</td>\n",
       "      <td>0.151605</td>\n",
       "      <td>-13</td>\n",
       "    </tr>\n",
       "    <tr>\n",
       "      <th>2</th>\n",
       "      <td>4</td>\n",
       "      <td>-141.406128</td>\n",
       "      <td>-28.417202</td>\n",
       "      <td>0.151605</td>\n",
       "      <td>0.151605</td>\n",
       "      <td>-13</td>\n",
       "    </tr>\n",
       "    <tr>\n",
       "      <th>3</th>\n",
       "      <td>7</td>\n",
       "      <td>212.916061</td>\n",
       "      <td>-42.097954</td>\n",
       "      <td>0.182258</td>\n",
       "      <td>0.182258</td>\n",
       "      <td>13</td>\n",
       "    </tr>\n",
       "    <tr>\n",
       "      <th>4</th>\n",
       "      <td>7</td>\n",
       "      <td>212.916061</td>\n",
       "      <td>-42.097954</td>\n",
       "      <td>0.182258</td>\n",
       "      <td>0.182258</td>\n",
       "      <td>13</td>\n",
       "    </tr>\n",
       "    <tr>\n",
       "      <th>...</th>\n",
       "      <td>...</td>\n",
       "      <td>...</td>\n",
       "      <td>...</td>\n",
       "      <td>...</td>\n",
       "      <td>...</td>\n",
       "      <td>...</td>\n",
       "    </tr>\n",
       "    <tr>\n",
       "      <th>95</th>\n",
       "      <td>109</td>\n",
       "      <td>268.667053</td>\n",
       "      <td>56.743904</td>\n",
       "      <td>0.157891</td>\n",
       "      <td>0.157891</td>\n",
       "      <td>13</td>\n",
       "    </tr>\n",
       "    <tr>\n",
       "      <th>96</th>\n",
       "      <td>109</td>\n",
       "      <td>268.667053</td>\n",
       "      <td>56.743904</td>\n",
       "      <td>0.157891</td>\n",
       "      <td>0.157891</td>\n",
       "      <td>13</td>\n",
       "    </tr>\n",
       "    <tr>\n",
       "      <th>97</th>\n",
       "      <td>110</td>\n",
       "      <td>171.653870</td>\n",
       "      <td>29.308418</td>\n",
       "      <td>0.173758</td>\n",
       "      <td>0.173758</td>\n",
       "      <td>-13</td>\n",
       "    </tr>\n",
       "    <tr>\n",
       "      <th>98</th>\n",
       "      <td>110</td>\n",
       "      <td>171.653870</td>\n",
       "      <td>29.308418</td>\n",
       "      <td>0.173758</td>\n",
       "      <td>0.173758</td>\n",
       "      <td>-13</td>\n",
       "    </tr>\n",
       "    <tr>\n",
       "      <th>99</th>\n",
       "      <td>110</td>\n",
       "      <td>-225.824646</td>\n",
       "      <td>-83.399292</td>\n",
       "      <td>0.172595</td>\n",
       "      <td>0.172595</td>\n",
       "      <td>13</td>\n",
       "    </tr>\n",
       "  </tbody>\n",
       "</table>\n",
       "<p>100 rows × 6 columns</p>\n",
       "</div>"
      ],
      "text/plain": [
       "    event_id           x          y    energy    seed_e  true_pdg\n",
       "0          2  171.653870  56.657227  0.183210  0.183210        13\n",
       "1          4 -141.406128 -28.417202  0.151605  0.151605       -13\n",
       "2          4 -141.406128 -28.417202  0.151605  0.151605       -13\n",
       "3          7  212.916061 -42.097954  0.182258  0.182258        13\n",
       "4          7  212.916061 -42.097954  0.182258  0.182258        13\n",
       "..       ...         ...        ...       ...       ...       ...\n",
       "95       109  268.667053  56.743904  0.157891  0.157891        13\n",
       "96       109  268.667053  56.743904  0.157891  0.157891        13\n",
       "97       110  171.653870  29.308418  0.173758  0.173758       -13\n",
       "98       110  171.653870  29.308418  0.173758  0.173758       -13\n",
       "99       110 -225.824646 -83.399292  0.172595  0.172595        13\n",
       "\n",
       "[100 rows x 6 columns]"
      ]
     },
     "execution_count": 23,
     "metadata": {},
     "output_type": "execute_result"
    }
   ],
   "source": [
    "muons_pairs[0:100]"
   ]
  },
  {
   "cell_type": "code",
   "execution_count": 24,
   "id": "8f81eaec",
   "metadata": {},
   "outputs": [
    {
     "data": {
      "text/html": [
       "<div>\n",
       "<style scoped>\n",
       "    .dataframe tbody tr th:only-of-type {\n",
       "        vertical-align: middle;\n",
       "    }\n",
       "\n",
       "    .dataframe tbody tr th {\n",
       "        vertical-align: top;\n",
       "    }\n",
       "\n",
       "    .dataframe thead th {\n",
       "        text-align: right;\n",
       "    }\n",
       "</style>\n",
       "<table border=\"1\" class=\"dataframe\">\n",
       "  <thead>\n",
       "    <tr style=\"text-align: right;\">\n",
       "      <th></th>\n",
       "      <th>event_id</th>\n",
       "      <th>energy</th>\n",
       "      <th>x</th>\n",
       "      <th>y</th>\n",
       "      <th>nhits</th>\n",
       "      <th>seed_e</th>\n",
       "      <th>seed_ix</th>\n",
       "      <th>seed_iy</th>\n",
       "      <th>true_pdg</th>\n",
       "      <th>true_pdg_purity</th>\n",
       "    </tr>\n",
       "  </thead>\n",
       "  <tbody>\n",
       "    <tr>\n",
       "      <th>0</th>\n",
       "      <td>0</td>\n",
       "      <td>0.125395</td>\n",
       "      <td>-31.799932</td>\n",
       "      <td>-83.099800</td>\n",
       "      <td>1</td>\n",
       "      <td>0.125395</td>\n",
       "      <td>-6</td>\n",
       "      <td>-5</td>\n",
       "      <td>11</td>\n",
       "      <td>1.000000</td>\n",
       "    </tr>\n",
       "    <tr>\n",
       "      <th>5</th>\n",
       "      <td>3</td>\n",
       "      <td>0.175812</td>\n",
       "      <td>-190.847427</td>\n",
       "      <td>70.480156</td>\n",
       "      <td>2</td>\n",
       "      <td>0.102449</td>\n",
       "      <td>-18</td>\n",
       "      <td>4</td>\n",
       "      <td>11</td>\n",
       "      <td>0.582720</td>\n",
       "    </tr>\n",
       "    <tr>\n",
       "      <th>8</th>\n",
       "      <td>5</td>\n",
       "      <td>1.024133</td>\n",
       "      <td>-188.391846</td>\n",
       "      <td>-28.426920</td>\n",
       "      <td>4</td>\n",
       "      <td>0.727388</td>\n",
       "      <td>-17</td>\n",
       "      <td>-1</td>\n",
       "      <td>11</td>\n",
       "      <td>0.786460</td>\n",
       "    </tr>\n",
       "    <tr>\n",
       "      <th>9</th>\n",
       "      <td>5</td>\n",
       "      <td>0.169475</td>\n",
       "      <td>-188.842194</td>\n",
       "      <td>56.750229</td>\n",
       "      <td>2</td>\n",
       "      <td>0.123345</td>\n",
       "      <td>-17</td>\n",
       "      <td>3</td>\n",
       "      <td>11</td>\n",
       "      <td>0.727808</td>\n",
       "    </tr>\n",
       "    <tr>\n",
       "      <th>10</th>\n",
       "      <td>6</td>\n",
       "      <td>0.193870</td>\n",
       "      <td>157.982498</td>\n",
       "      <td>-42.073868</td>\n",
       "      <td>1</td>\n",
       "      <td>0.193870</td>\n",
       "      <td>9</td>\n",
       "      <td>-2</td>\n",
       "      <td>11</td>\n",
       "      <td>1.000000</td>\n",
       "    </tr>\n",
       "  </tbody>\n",
       "</table>\n",
       "</div>"
      ],
      "text/plain": [
       "    event_id    energy           x          y  nhits    seed_e  seed_ix   \n",
       "0          0  0.125395  -31.799932 -83.099800      1  0.125395       -6  \\\n",
       "5          3  0.175812 -190.847427  70.480156      2  0.102449      -18   \n",
       "8          5  1.024133 -188.391846 -28.426920      4  0.727388      -17   \n",
       "9          5  0.169475 -188.842194  56.750229      2  0.123345      -17   \n",
       "10         6  0.193870  157.982498 -42.073868      1  0.193870        9   \n",
       "\n",
       "    seed_iy  true_pdg  true_pdg_purity  \n",
       "0        -5        11         1.000000  \n",
       "5         4        11         0.582720  \n",
       "8        -1        11         0.786460  \n",
       "9         3        11         0.727808  \n",
       "10       -2        11         1.000000  "
      ]
     },
     "execution_count": 24,
     "metadata": {},
     "output_type": "execute_result"
    }
   ],
   "source": [
    "electrons = pandas_df.loc[np.abs(pandas_df['true_pdg'])==11]\n",
    "electrons_shortened = electrons[['event_id','x','y','energy','seed_e','true_pdg']]\n",
    "electrons.head()"
   ]
  },
  {
   "cell_type": "code",
   "execution_count": 25,
   "id": "6696764b",
   "metadata": {},
   "outputs": [
    {
     "data": {
      "text/plain": [
       "131035"
      ]
     },
     "execution_count": 25,
     "metadata": {},
     "output_type": "execute_result"
    }
   ],
   "source": [
    "high_purity_df = pd.concat([muons_pairs,electrons_shortened],ignore_index = True)\n",
    "pure_shuffle= high_purity_df.sample(frac = 1)\n",
    "pure_shuffle.shape[0]\n"
   ]
  },
  {
   "cell_type": "code",
   "execution_count": 26,
   "id": "8fa48169",
   "metadata": {},
   "outputs": [],
   "source": [
    "pure_training = pure_shuffle[0:120000]\n",
    "pure_testing = pure_shuffle[120000:]"
   ]
  },
  {
   "cell_type": "code",
   "execution_count": 27,
   "id": "d79207c2",
   "metadata": {},
   "outputs": [
    {
     "data": {
      "text/html": [
       "<div>\n",
       "<style scoped>\n",
       "    .dataframe tbody tr th:only-of-type {\n",
       "        vertical-align: middle;\n",
       "    }\n",
       "\n",
       "    .dataframe tbody tr th {\n",
       "        vertical-align: top;\n",
       "    }\n",
       "\n",
       "    .dataframe thead th {\n",
       "        text-align: right;\n",
       "    }\n",
       "</style>\n",
       "<table border=\"1\" class=\"dataframe\">\n",
       "  <thead>\n",
       "    <tr style=\"text-align: right;\">\n",
       "      <th></th>\n",
       "      <th>event_id</th>\n",
       "      <th>x</th>\n",
       "      <th>y</th>\n",
       "      <th>energy</th>\n",
       "      <th>seed_e</th>\n",
       "      <th>true_pdg</th>\n",
       "    </tr>\n",
       "  </thead>\n",
       "  <tbody>\n",
       "    <tr>\n",
       "      <th>85069</th>\n",
       "      <td>973</td>\n",
       "      <td>-58.211525</td>\n",
       "      <td>-44.827610</td>\n",
       "      <td>2.307671</td>\n",
       "      <td>1.762133</td>\n",
       "      <td>11</td>\n",
       "    </tr>\n",
       "    <tr>\n",
       "      <th>103362</th>\n",
       "      <td>37285</td>\n",
       "      <td>-170.067230</td>\n",
       "      <td>50.630379</td>\n",
       "      <td>2.393414</td>\n",
       "      <td>1.104774</td>\n",
       "      <td>11</td>\n",
       "    </tr>\n",
       "    <tr>\n",
       "      <th>46728</th>\n",
       "      <td>51289</td>\n",
       "      <td>212.916061</td>\n",
       "      <td>70.390892</td>\n",
       "      <td>0.215085</td>\n",
       "      <td>0.215085</td>\n",
       "      <td>13</td>\n",
       "    </tr>\n",
       "    <tr>\n",
       "      <th>87429</th>\n",
       "      <td>5660</td>\n",
       "      <td>-90.596199</td>\n",
       "      <td>-42.080837</td>\n",
       "      <td>1.909135</td>\n",
       "      <td>1.368987</td>\n",
       "      <td>11</td>\n",
       "    </tr>\n",
       "    <tr>\n",
       "      <th>41121</th>\n",
       "      <td>44952</td>\n",
       "      <td>144.345764</td>\n",
       "      <td>-28.405161</td>\n",
       "      <td>0.185372</td>\n",
       "      <td>0.185372</td>\n",
       "      <td>-13</td>\n",
       "    </tr>\n",
       "  </tbody>\n",
       "</table>\n",
       "</div>"
      ],
      "text/plain": [
       "        event_id           x          y    energy    seed_e  true_pdg\n",
       "85069        973  -58.211525 -44.827610  2.307671  1.762133        11\n",
       "103362     37285 -170.067230  50.630379  2.393414  1.104774        11\n",
       "46728      51289  212.916061  70.390892  0.215085  0.215085        13\n",
       "87429       5660  -90.596199 -42.080837  1.909135  1.368987        11\n",
       "41121      44952  144.345764 -28.405161  0.185372  0.185372       -13"
      ]
     },
     "execution_count": 27,
     "metadata": {},
     "output_type": "execute_result"
    }
   ],
   "source": [
    "pure_training.head()"
   ]
  },
  {
   "cell_type": "code",
   "execution_count": 45,
   "id": "04b0cecd",
   "metadata": {},
   "outputs": [
    {
     "data": {
      "text/plain": [
       "(          seed_e\n",
       " 85069   1.762133\n",
       " 103362  1.104774\n",
       " 46728   0.215085\n",
       " 87429   1.368987\n",
       " 41121   0.185372,\n",
       " 85069     11\n",
       " 103362    11\n",
       " 46728     13\n",
       " 87429     11\n",
       " 41121    -13\n",
       " Name: true_pdg, dtype: int64)"
      ]
     },
     "execution_count": 45,
     "metadata": {},
     "output_type": "execute_result"
    }
   ],
   "source": [
    "X_train = pure_training.drop(columns=['true_pdg','event_id','energy','x','y']) #remove the 'truth' aka pdg_id column from the features dataset\n",
    "X_test = pure_testing.drop(columns=['true_pdg','event_id','energy','x','y']) #same thing, but for the df for testing the model\n",
    "Y_train = pure_training['true_pdg'] #this is the df containing the truth values for the X_train features, aka which particle they are\n",
    "Y_test = pure_testing['true_pdg'] #contains truth values for the test set \n",
    "X_train.head(),Y_train.head()"
   ]
  },
  {
   "cell_type": "code",
   "execution_count": 52,
   "id": "6c84f13a",
   "metadata": {},
   "outputs": [
    {
     "name": "stdout",
     "output_type": "stream",
     "text": [
      "MY DF RESULTS:\n",
      "Training set score: 0.508008\n",
      "Test set score (how accurate the model is at classifying mu+/e-/mu-/e+): 0.503670\n",
      "So using 120000 training points and 11035 testing datapoints, we on average have a 49.63298595378342 % error at classifying 3 different kinds of particles\n",
      "CPU times: user 78 ms, sys: 390 µs, total: 78.4 ms\n",
      "Wall time: 76.6 ms\n"
     ]
    }
   ],
   "source": [
    "%%time\n",
    "#train with my df\n",
    "clf = tree.DecisionTreeClassifier()\n",
    "\n",
    "clf.set_params(criterion='entropy',max_depth=2,max_leaf_nodes=2)\n",
    "clf.fit(X_train, Y_train)\n",
    "clf_pred = clf.predict(X_test)\n",
    "clf_score = clf.score(X_test, Y_test)\n",
    "print(\"MY DF RESULTS:\")\n",
    "print(\"Training set score: %f\" % clf.score(X_train, Y_train))\n",
    "print(\"Test set score (how accurate the model is at classifying mu+/e-/mu-/e+): %f\" % clf.score(X_test, Y_test))\n",
    "print(f\"So using {X_train.shape[0]} training points and {X_test.shape[0]} testing datapoints, we on average have a {(1-clf.score(X_test,Y_test))*100} % error at classifying 3 different kinds of particles\")\n"
   ]
  },
  {
   "cell_type": "code",
   "execution_count": 53,
   "id": "d86e8309",
   "metadata": {},
   "outputs": [
    {
     "data": {
      "text/plain": [
       "[Text(0.5, 0.75, 'x[0] <= 0.308\\nentropy = 1.584\\nsamples = 120000\\nvalue = [38770, 42550, 38680]'),\n",
       " Text(0.25, 0.25, 'entropy = 1.529\\nsamples = 97276\\nvalue = [38588, 20177, 38511]'),\n",
       " Text(0.75, 0.25, 'entropy = 0.13\\nsamples = 22724\\nvalue = [182, 22373, 169]')]"
      ]
     },
     "execution_count": 53,
     "metadata": {},
     "output_type": "execute_result"
    },
    {
     "data": {
      "image/png": "[encoded data removed]",
      "text/plain": [
       "<Figure size 432x288 with 1 Axes>"
      ]
     },
     "metadata": {
      "needs_background": "light"
     },
     "output_type": "display_data"
    }
   ],
   "source": [
    "tree.plot_tree(clf)"
   ]
  },
  {
   "cell_type": "code",
   "execution_count": 55,
   "id": "3b2ffab6",
   "metadata": {},
   "outputs": [
    {
     "data": {
      "text/plain": [
       "<matplotlib.legend.Legend at 0x7f89f340b7c0>"
      ]
     },
     "execution_count": 55,
     "metadata": {},
     "output_type": "execute_result"
    },
    {
     "data": {
      "image/png": "[encoded data removed]",
      "text/plain": [
       "<Figure size 432x288 with 1 Axes>"
      ]
     },
     "metadata": {
      "needs_background": "light"
     },
     "output_type": "display_data"
    }
   ],
   "source": [
    "import matplotlib.pyplot as plt\n",
    "seed_e_hist = plt.hist(high_purity_df['seed_e'],bins=500,label='all particles',histtype='step')\n",
    "plt.axvline(x = 0.308, color = 'red', label = 'ML suggested cut at 0.308 GeV')\n",
    "muons = plt.hist(high_purity_df['seed_e'].loc[np.abs(high_purity_df['true_pdg'])>12],bins = 500,label='muons',histtype='step')\n",
    "plt.yscale('log')\n",
    "plt.xlabel('Seed Energy [GeV]')\n",
    "plt.ylabel('counts')\n",
    "plt.title(\"ML suggested seed energy cut for classifying muons vs electrons.\\n Everything left of cut is predicted to be a muon, and everything right of the cut is predicted to be an electron\")\n",
    "plt.legend()"
   ]
  },
  {
   "cell_type": "code",
   "execution_count": 59,
   "id": "020b3676",
   "metadata": {},
   "outputs": [
    {
     "name": "stdout",
     "output_type": "stream",
     "text": [
      "correct muon prediction count: 84208\n",
      "incorrect muon prediction count: 390\n",
      "correct electron prediction count: 24429\n",
      "incorrect electron prediction count: 22008\n",
      "total score:0.8290685694661731\n",
      "If we don't care about whether the muon was positively or negatively charged, this cut does quite well!\n"
     ]
    }
   ],
   "source": [
    "n_muons_incorrect = high_purity_df.loc[high_purity_df['seed_e']>.308].loc[np.abs(high_purity_df['true_pdg'])>12]\n",
    "n_electrons_correct = high_purity_df.loc[high_purity_df['seed_e']>.308].loc[high_purity_df['true_pdg']==11]\n",
    "n_muons_correct = high_purity_df.loc[high_purity_df['seed_e']<.308].loc[np.abs(high_purity_df['true_pdg'])>12]\n",
    "n_electrons_incorrect = high_purity_df.loc[high_purity_df['seed_e']<.308].loc[high_purity_df['true_pdg']==11]\n",
    "print(f\"correct muon prediction count: {n_muons_correct.shape[0]}\")\n",
    "print(f\"incorrect muon prediction count: {n_muons_incorrect.shape[0]}\")\n",
    "print(f\"correct electron prediction count: {n_electrons_correct.shape[0]}\")\n",
    "print(f\"incorrect electron prediction count: {n_electrons_incorrect.shape[0]}\")\n",
    "print(f\"total score:{(n_muons_correct.shape[0]+n_electrons_correct.shape[0])/high_purity_df.shape[0]}\")\n",
    "print(\"If we don't care about whether the muon was positively or negatively charged, this cut does quite well!\")"
   ]
  },
  {
   "cell_type": "code",
   "execution_count": 57,
   "id": "46ac064d",
   "metadata": {},
   "outputs": [
    {
     "data": {
      "text/plain": [
       "<matplotlib.legend.Legend at 0x7f89f26c4130>"
      ]
     },
     "execution_count": 57,
     "metadata": {},
     "output_type": "execute_result"
    },
    {
     "data": {
      "image/png": "[encoded data removed]",
      "text/plain": [
       "<Figure size 432x288 with 1 Axes>"
      ]
     },
     "metadata": {
      "needs_background": "light"
     },
     "output_type": "display_data"
    }
   ],
   "source": [
    "seed_e_hist = plt.hist(high_purity_df['seed_e'].loc[high_purity_df['true_pdg']==11],bins=200,label='electrons',histtype='step')\n",
    "plt.axvline(x = 0.308, color = 'red', label = 'ML suggested cut at 0.294 GeV')\n",
    "mups = plt.hist(high_purity_df['seed_e'].loc[high_purity_df['true_pdg']==-13],bins = 200,label='mu plus',histtype='step')\n",
    "mums = plt.hist(high_purity_df['seed_e'].loc[high_purity_df['true_pdg']==13],bins = 200,label='mu minus',histtype='step')\n",
    "plt.yscale('log')\n",
    "plt.xlabel('Seed Energy [GeV]')\n",
    "plt.ylabel('counts')\n",
    "plt.title(\"ML suggested seed energy cut for classifying muons vs electrons.\\n Everything left of cut is predicted to be a muon, and everything right of the cut is predicted to be an electron\")\n",
    "plt.legend()"
   ]
  }
 ],
 "metadata": {
  "kernelspec": {
   "display_name": "Python 3 (ipykernel)",
   "language": "python",
   "name": "python3"
  },
  "language_info": {
   "codemirror_mode": {
    "name": "ipython",
    "version": 3
   },
   "file_extension": ".py",
   "mimetype": "text/x-python",
   "name": "python",
   "nbconvert_exporter": "python",
   "pygments_lexer": "ipython3",
   "version": "3.10.6"
  }
 },
 "nbformat": 4,
 "nbformat_minor": 5
}
