{
 "cells": [
  {
   "cell_type": "code",
   "execution_count": 98,
   "metadata": {
    "ExecuteTime": {
     "end_time": "2023-06-25T22:16:43.195383602Z",
     "start_time": "2023-06-25T22:16:38.730817270Z"
    }
   },
   "outputs": [],
   "source": [
    "import time\n",
    "import numpy as np\n",
    "import xgboost as xgb\n",
    "import pandas as pd\n",
    "import os\n",
    "import matplotlib.pyplot as plt\n",
    "import xgboost as xgb\n",
    "from sklearn import tree\n",
    "import sklearn \n",
    "#xgboost part of this notebook follows {https://github.com/k-woodruff/bdt-tutorial} quite closely. "
   ]
  },
  {
   "cell_type": "code",
   "execution_count": 40,
   "metadata": {
    "ExecuteTime": {
     "end_time": "2023-06-25T22:17:26.881895212Z",
     "start_time": "2023-06-25T22:17:26.768718612Z"
    }
   },
   "outputs": [
    {
     "name": "stdout",
     "output_type": "stream",
     "text": [
      "Number of muon events in data set is 468196\n",
      "Number of electron envents in data set is 303723\n"
     ]
    },
    {
     "data": {
      "text/html": [
       "<div>\n",
       "<style scoped>\n",
       "    .dataframe tbody tr th:only-of-type {\n",
       "        vertical-align: middle;\n",
       "    }\n",
       "\n",
       "    .dataframe tbody tr th {\n",
       "        vertical-align: top;\n",
       "    }\n",
       "\n",
       "    .dataframe thead th {\n",
       "        text-align: right;\n",
       "    }\n",
       "</style>\n",
       "<table border=\"1\" class=\"dataframe\">\n",
       "  <thead>\n",
       "    <tr style=\"text-align: right;\">\n",
       "      <th></th>\n",
       "      <th>energy</th>\n",
       "      <th>energy_cor</th>\n",
       "      <th>x</th>\n",
       "      <th>y</th>\n",
       "      <th>x_cor</th>\n",
       "      <th>y_cor</th>\n",
       "      <th>nhits</th>\n",
       "      <th>seed_e</th>\n",
       "      <th>seed_ix</th>\n",
       "      <th>seed_iy</th>\n",
       "      <th>pdg_id</th>\n",
       "    </tr>\n",
       "  </thead>\n",
       "  <tbody>\n",
       "    <tr>\n",
       "      <th>0</th>\n",
       "      <td>0.208387</td>\n",
       "      <td>0.304703</td>\n",
       "      <td>164.917160</td>\n",
       "      <td>29.307570</td>\n",
       "      <td>176.880310</td>\n",
       "      <td>27.712893</td>\n",
       "      <td>2</td>\n",
       "      <td>0.107822</td>\n",
       "      <td>10</td>\n",
       "      <td>1</td>\n",
       "      <td>13</td>\n",
       "    </tr>\n",
       "    <tr>\n",
       "      <th>1</th>\n",
       "      <td>0.192105</td>\n",
       "      <td>0.235183</td>\n",
       "      <td>346.422363</td>\n",
       "      <td>-83.485344</td>\n",
       "      <td>351.167725</td>\n",
       "      <td>-82.910431</td>\n",
       "      <td>2</td>\n",
       "      <td>0.119773</td>\n",
       "      <td>22</td>\n",
       "      <td>-5</td>\n",
       "      <td>22</td>\n",
       "    </tr>\n",
       "    <tr>\n",
       "      <th>2</th>\n",
       "      <td>0.248797</td>\n",
       "      <td>0.346332</td>\n",
       "      <td>22.327135</td>\n",
       "      <td>42.953724</td>\n",
       "      <td>31.850431</td>\n",
       "      <td>42.022709</td>\n",
       "      <td>1</td>\n",
       "      <td>0.248797</td>\n",
       "      <td>-2</td>\n",
       "      <td>2</td>\n",
       "      <td>13</td>\n",
       "    </tr>\n",
       "    <tr>\n",
       "      <th>3</th>\n",
       "      <td>0.176096</td>\n",
       "      <td>0.264418</td>\n",
       "      <td>-58.985336</td>\n",
       "      <td>-42.069271</td>\n",
       "      <td>-47.597919</td>\n",
       "      <td>-40.178596</td>\n",
       "      <td>1</td>\n",
       "      <td>0.176096</td>\n",
       "      <td>-8</td>\n",
       "      <td>-2</td>\n",
       "      <td>13</td>\n",
       "    </tr>\n",
       "    <tr>\n",
       "      <th>4</th>\n",
       "      <td>0.174293</td>\n",
       "      <td>0.249070</td>\n",
       "      <td>-135.385635</td>\n",
       "      <td>-28.416124</td>\n",
       "      <td>-140.257568</td>\n",
       "      <td>-26.535488</td>\n",
       "      <td>2</td>\n",
       "      <td>0.113196</td>\n",
       "      <td>-14</td>\n",
       "      <td>-1</td>\n",
       "      <td>11</td>\n",
       "    </tr>\n",
       "  </tbody>\n",
       "</table>\n",
       "</div>"
      ],
      "text/plain": [
       "     energy  energy_cor           x          y       x_cor      y_cor  nhits   \n",
       "0  0.208387    0.304703  164.917160  29.307570  176.880310  27.712893      2  \\\n",
       "1  0.192105    0.235183  346.422363 -83.485344  351.167725 -82.910431      2   \n",
       "2  0.248797    0.346332   22.327135  42.953724   31.850431  42.022709      1   \n",
       "3  0.176096    0.264418  -58.985336 -42.069271  -47.597919 -40.178596      1   \n",
       "4  0.174293    0.249070 -135.385635 -28.416124 -140.257568 -26.535488      2   \n",
       "\n",
       "     seed_e  seed_ix  seed_iy  pdg_id  \n",
       "0  0.107822       10        1      13  \n",
       "1  0.119773       22       -5      22  \n",
       "2  0.248797       -2        2      13  \n",
       "3  0.176096       -8       -2      13  \n",
       "4  0.113196      -14       -1      11  "
      ]
     },
     "execution_count": 40,
     "metadata": {},
     "output_type": "execute_result"
    }
   ],
   "source": [
    "muon_df =pd.read_feather(\"mum.feather\") #read in muon and electron feather to pandas dataframe\n",
    "print(f\"Number of muon events in data set is {len(muon_df)}\")\n",
    "\n",
    "elec_df = pd.read_feather(\"electrons_large.feather\")\n",
    "print(f\"Number of electron envents in data set is {len(elec_df)}\")"
   ]
  },
  {
   "cell_type": "code",
   "execution_count": 43,
   "metadata": {},
   "outputs": [
    {
     "name": "stdout",
     "output_type": "stream",
     "text": [
      "Number of total shuffled events: 576058\n",
      "Number of shuffled events for training: 400000\n",
      "Number of shuffled events for validation: 176058\n"
     ]
    }
   ],
   "source": [
    "#create filtered dataframes only containing events that either start as an electron or a negative muon, respectively\n",
    "ele_filt = elec_df.loc[elec_df['pdg_id']==11]\n",
    "mum_filt = muon_df.loc[muon_df['pdg_id']==13]\n",
    "#print(ele_filt.shape[0],mum_filt.shape[0]) \n",
    "\n",
    "#combine the filtered dataframes\n",
    "combined_df = pd.concat([ele_filt, mum_filt], ignore_index=True)\n",
    "\n",
    "#permute the combined dataframe to randomly mix the indices\n",
    "shuffled_df= combined_df.sample(frac = 1)\n",
    "\n",
    "#make sure shuffled df looks correct\n",
    "print(f\"Number of total shuffled events: {len(shuffled_df)}\")\n",
    "shuffled_df.head()\n",
    "\n",
    "\n",
    "#split the shuffled df into a df for training the tree and a df for validating the tree's predictions\n",
    "shuffled_training_df = shuffled_df.iloc[0:400000]\n",
    "shuffled_validation_df = shuffled_df.iloc[400000:]\n",
    "\n",
    "print(f\"Number of shuffled events for training: {len(shuffled_training_df)}\")\n",
    "print(f\"Number of shuffled events for validation: {len(shuffled_validation_df)}\")\n"
   ]
  },
  {
   "cell_type": "code",
   "execution_count": 45,
   "metadata": {},
   "outputs": [
    {
     "name": "stdout",
     "output_type": "stream",
     "text": [
      "energy\n",
      "energy_cor\n",
      "x\n",
      "y\n",
      "x_cor\n",
      "y_cor\n",
      "nhits\n",
      "seed_e\n",
      "seed_ix\n",
      "seed_iy\n",
      "pdg_id\n",
      "Fraction e-/mu-: 0.321085\n"
     ]
    }
   ],
   "source": [
    "for col in shuffled_training_df.columns:\n",
    "    print(col)\n",
    "print('Fraction e-/mu-: {}'.format(len(shuffled_training_df[shuffled_training_df.pdg_id == 11])/(float)(len(shuffled_training_df[shuffled_training_df.pdg_id == 13]) + len(shuffled_training_df[shuffled_training_df.pdg_id == 11]))))    "
   ]
  },
  {
   "cell_type": "code",
   "execution_count": 78,
   "metadata": {},
   "outputs": [
    {
     "name": "stdout",
     "output_type": "stream",
     "text": [
      "Index(['energy_cor', 'x_cor', 'y_cor', 'nhits', 'seed_e', 'seed_ix',\n",
      "       'seed_iy'],\n",
      "      dtype='object')\n"
     ]
    }
   ],
   "source": [
    "#drop columns related to truth quantities and redundant features. Not dropping pdg_id yet, as xgboost uses this as the 'label' for the data\n",
    "train_df = shuffled_training_df.drop(columns=['x','y','energy'])\n",
    "val_df = shuffled_validation_df.drop(columns=['x','y','energy'])\n",
    "\n",
    "#create an index of the columns that we want to be the features that the ML tree investigates as dependent variables\n",
    "feature_names = train_df.columns[0:-1] #drop the pdg_id, as it is the independent variable in this context\n",
    "print(feature_names)\n",
    "\n"
   ]
  },
  {
   "cell_type": "code",
   "execution_count": 79,
   "metadata": {},
   "outputs": [
    {
     "data": {
      "text/plain": [
       "energy_cor     float64\n",
       "x_cor          float64\n",
       "y_cor          float64\n",
       "nhits            int32\n",
       "seed_e         float64\n",
       "seed_ix          int32\n",
       "seed_iy          int32\n",
       "pdg_id        category\n",
       "dtype: object"
      ]
     },
     "execution_count": 79,
     "metadata": {},
     "output_type": "execute_result"
    }
   ],
   "source": [
    "train_df['pdg_id']=train_df['pdg_id'].astype('category') #set the pdg_id as a 'category' datatype for xgboost. \n",
    "val_df['pdg_id']=val_df['pdg_id'].astype('category')\n",
    "train_df.dtypes  #make sure our df contains no 'object' datatypes\n",
    "#val_df.shape\n",
    "#only_ecal_val_df.shape"
   ]
  },
  {
   "cell_type": "code",
   "execution_count": 80,
   "metadata": {
    "scrolled": true
   },
   "outputs": [],
   "source": [
    "train = xgb.DMatrix(data=train_df[feature_names],label=train_df.pdg_id.cat.codes, #what is .cat.codes??\n",
    "                    missing=-999.0,feature_names=feature_names)\n",
    "test = xgb.DMatrix(data=val_df[feature_names],label=val_df.pdg_id.cat.codes,\n",
    "                   missing=-999.0,feature_names=feature_names)"
   ]
  },
  {
   "cell_type": "code",
   "execution_count": 81,
   "metadata": {},
   "outputs": [
    {
     "name": "stdout",
     "output_type": "stream",
     "text": [
      "Number of training samples: 400000\n",
      "Number of testing samples: 176058\n",
      "\n",
      "Number of muon events in training set: 271566\n"
     ]
    }
   ],
   "source": [
    "print('Number of training samples: {}'.format(train.num_row()))\n",
    "print('Number of testing samples: {}'.format(test.num_row()))\n",
    "\n",
    "print('\\nNumber of muon events in training set: {}'.format(len(np.where(train.get_label())[0])))"
   ]
  },
  {
   "cell_type": "code",
   "execution_count": 82,
   "metadata": {},
   "outputs": [],
   "source": [
    "param = {}\n",
    "\n",
    "# Booster parameters\n",
    "param['eta']              = 0.1 # learning rate\n",
    "param['max_depth']        = 10 # maximum depth of a tree\n",
    "param['subsample']        = 1 # fraction of events to train tree on\n",
    "param['colsample_bytree'] = 1 # fraction of features to train tree on\n",
    "\n",
    "# Learning task parameters\n",
    "param['objective']   = 'binary:logistic' # objective function\n",
    "param['eval_metric'] = 'error'           # evaluation metric for cross validation\n",
    "param = list(param.items()) + [('eval_metric', 'logloss')] + [('eval_metric', 'rmse')]\n",
    "\n",
    "num_trees = 100  # number of trees to make"
   ]
  },
  {
   "cell_type": "code",
   "execution_count": 83,
   "metadata": {},
   "outputs": [],
   "source": [
    "#train using xgboost\n",
    "booster = xgb.train(param,train,num_boost_round=num_trees)"
   ]
  },
  {
   "cell_type": "code",
   "execution_count": 84,
   "metadata": {},
   "outputs": [
    {
     "name": "stdout",
     "output_type": "stream",
     "text": [
      "[0]\teval-rmse:0.16417683397855781\teval-rmse:0.16417683397855781\teval-rmse:0.16417683397855781\n"
     ]
    }
   ],
   "source": [
    "#test the model, (not sure why it prints the same error rate 3 times)\n",
    "print(booster.eval(test))"
   ]
  },
  {
   "cell_type": "code",
   "execution_count": 85,
   "metadata": {},
   "outputs": [],
   "source": [
    "predictions = booster.predict(test)"
   ]
  },
  {
   "cell_type": "code",
   "execution_count": 86,
   "metadata": {},
   "outputs": [
    {
     "data": {
      "image/png": "[encoded data removed]",
      "text/plain": [
       "<Figure size 432x288 with 1 Axes>"
      ]
     },
     "metadata": {
      "needs_background": "light"
     },
     "output_type": "display_data"
    },
    {
     "data": {
      "image/png": "[encoded data removed]",
      "text/plain": [
       "<Figure size 432x288 with 1 Axes>"
      ]
     },
     "metadata": {
      "needs_background": "light"
     },
     "output_type": "display_data"
    }
   ],
   "source": [
    "# plot all predictions (both signal and background)\n",
    "plt.figure();\n",
    "plt.hist(predictions,bins=np.linspace(0,1,50),histtype='step',color='darkgreen',label='All events');\n",
    "# make the plot readable\n",
    "plt.xlabel('Prediction from BDT',fontsize=12);\n",
    "plt.ylabel('Events',fontsize=12);\n",
    "plt.legend(frameon=False);\n",
    "\n",
    "# plot signal and background separately\n",
    "plt.figure();\n",
    "plt.hist(predictions[test.get_label().astype(bool)],bins=np.linspace(0,1,50),\n",
    "         histtype='step',color='midnightblue',label='muon');\n",
    "plt.hist(predictions[~(test.get_label().astype(bool))],bins=np.linspace(0,1,50),\n",
    "         histtype='step',color='firebrick',label='electron');\n",
    "# make the plot readable\n",
    "plt.xlabel('Prediction from BDT',fontsize=12);\n",
    "plt.ylabel('Events',fontsize=12);\n",
    "plt.legend(frameon=False);"
   ]
  },
  {
   "cell_type": "code",
   "execution_count": 87,
   "metadata": {},
   "outputs": [
    {
     "name": "stderr",
     "output_type": "stream",
     "text": [
      "/tmp/ipykernel_1486/375920219.py:11: RuntimeWarning: invalid value encountered in divide\n",
      "  plt.plot(nsignal/len(val_df[val_df.pdg_id == 13]),nsignal/(nsignal + nbackground),'o-',color='blueviolet');\n",
      "No artists with labels found to put in legend.  Note that artists whose label start with an underscore are ignored when legend() is called with no argument.\n"
     ]
    },
    {
     "data": {
      "image/png": "[encoded data removed]",
      "text/plain": [
       "<Figure size 432x288 with 1 Axes>"
      ]
     },
     "metadata": {
      "needs_background": "light"
     },
     "output_type": "display_data"
    }
   ],
   "source": [
    "# choose score cuts:\n",
    "cuts = np.linspace(0,1,500);\n",
    "nsignal = np.zeros(len(cuts));\n",
    "nbackground = np.zeros(len(cuts));\n",
    "for i,cut in enumerate(cuts):\n",
    "    nsignal[i] = len(np.where(predictions[test.get_label().astype(bool)] > cut)[0]);\n",
    "    nbackground[i] = len(np.where(predictions[~(test.get_label().astype(bool))] > cut)[0]);\n",
    "    \n",
    "# plot efficiency vs. purity (ROC curve)\n",
    "plt.figure();\n",
    "plt.plot(nsignal/len(val_df[val_df.pdg_id == 13]),nsignal/(nsignal + nbackground),'o-',color='blueviolet');\n",
    "# make the plot readable\n",
    "plt.xlabel('Efficiency',fontsize=12);\n",
    "plt.ylabel('Purity',fontsize=12);\n",
    "plt.legend(frameon=False);"
   ]
  },
  {
   "cell_type": "code",
   "execution_count": 88,
   "metadata": {},
   "outputs": [
    {
     "name": "stdout",
     "output_type": "stream",
     "text": [
      "Interestingly, xgboost makes a decision tree with a much greater emphasis on the x and y poition of the particle when compared to the sklearn BDTree a few lines below.\n"
     ]
    },
    {
     "data": {
      "image/png": "[encoded data removed]",
      "text/plain": [
       "<Figure size 432x288 with 1 Axes>"
      ]
     },
     "metadata": {
      "needs_background": "light"
     },
     "output_type": "display_data"
    }
   ],
   "source": [
    "xgb.plot_importance(booster,grid=False); #use either the cor or the uncor values, but probably not both \n",
    "print(\"Interestingly, xgboost makes a decision tree with a much greater emphasis on the x and y poition of the particle when compared to the sklearn BDTree a few lines below.\")"
   ]
  },
  {
   "cell_type": "code",
   "execution_count": 95,
   "metadata": {},
   "outputs": [
    {
     "name": "stdout",
     "output_type": "stream",
     "text": [
      "Training set score (should be very close to 1): 0.999880\n",
      "Test set score (how accurate the model is at classifying mu-/e-): 0.944666\n",
      "So using 170k test datapoints, we on average have a 5.533403764668465 % error\n"
     ]
    }
   ],
   "source": [
    "clf = tree.DecisionTreeClassifier() \n",
    "X_train = train_df.drop(columns=['pdg_id']) #remove the 'truth' aka pdg_id column from the features dataset\n",
    "X_test = val_df.drop(columns=['pdg_id']) #same thing, but for the df for testing the model\n",
    "Y_train = train_df['pdg_id'] #this is the df containing the truth values for the X_train features, aka which particle they are\n",
    "Y_test = val_df['pdg_id'] #contains truth values for the test set \n",
    "\n",
    "#check to make sure we have the same number of entries \n",
    "X_train.shape[0]==Y_train.shape[0]\n",
    "X_test.shape[0]==Y_test.shape[0]\n",
    "#we do the fitting here\n",
    "clf.fit(X_train, Y_train)\n",
    "#test the model \n",
    "clf_pred = clf.predict(X_test)\n",
    "print(\"Training set score (should be very close to 1): %f\" % clf.score(X_train, Y_train))\n",
    "print(\"Test set score (how accurate the model is at classifying mu-/e-): %f\" % clf.score(X_test, Y_test))\n",
    "print(f\"So using 170k test datapoints, we on average have a {(1-clf.score(X_test,Y_test))*100} % error\")\n",
    "#would now try to find the smallest decision tree that still gets a similar error rate to the huge tree "
   ]
  },
  {
   "cell_type": "code",
   "execution_count": 90,
   "metadata": {},
   "outputs": [
    {
     "name": "stdout",
     "output_type": "stream",
     "text": [
      "sklearn's decision tree classifier makes the vast majority of particle classification decisions using the energy feature, not x and y like xgboost.\n"
     ]
    },
    {
     "data": {
      "image/png": "[encoded data removed]",
      "text/plain": [
       "<Figure size 432x288 with 1 Axes>"
      ]
     },
     "metadata": {
      "needs_background": "light"
     },
     "output_type": "display_data"
    }
   ],
   "source": [
    "plt.bar(clf.feature_names_in_,clf.feature_importances_)\n",
    "print(\"sklearn's decision tree classifier makes the vast majority of particle classification decisions using the energy feature, not x and y like xgboost.\")"
   ]
  },
  {
   "cell_type": "code",
   "execution_count": 99,
   "metadata": {},
   "outputs": [
    {
     "data": {
      "image/png": "[encoded data removed]",
      "text/plain": [
       "<Figure size 432x288 with 2 Axes>"
      ]
     },
     "metadata": {
      "needs_background": "light"
     },
     "output_type": "display_data"
    }
   ],
   "source": [
    "#create and plot the confusion matrix for the normal decision tree\n",
    "clf_cmatrix = sklearn.metrics.confusion_matrix(Y_test, clf_pred, labels=clf.classes_)\n",
    "display = sklearn.metrics.ConfusionMatrixDisplay(clf_cmatrix, display_labels=clf.classes_)\n",
    "display.plot()\n",
    "plt.show()"
   ]
  },
  {
   "cell_type": "code",
   "execution_count": 91,
   "metadata": {},
   "outputs": [],
   "source": [
    "#uncomment the lines below to create a pdf of tree visualization \n",
    "\n",
    "#tree.plot_tree(clf)\n",
    "#import graphviz \n",
    "#dot_data = tree.export_graphviz(clf, out_file=None)\n",
    "#graph = graphviz.Source(dot_data) \n",
    "#graph.render('mytree') "
   ]
  },
  {
   "cell_type": "code",
   "execution_count": 92,
   "metadata": {},
   "outputs": [],
   "source": [
    "#for fun, I test a single feather file that contains both electrons and muons, and see how accurate the above model is.\n",
    "emu_df= pd.read_feather(\"emu.feather\") "
   ]
  },
  {
   "cell_type": "code",
   "execution_count": 93,
   "metadata": {
    "scrolled": false
   },
   "outputs": [],
   "source": [
    "#emu_df.dtypes\n",
    "emu_df.tail()\n",
    "emu_df.tail()\n",
    "#filtered_emu=emu_df.filter(\"pdg_id=11\")\n",
    "emu_filtered = emu_df.loc[emu_df['pdg_id'].between(10,14)]\n",
    "emu_elec = emu_filtered.loc[emu_filtered['pdg_id']==11]\n",
    "emu_muons = emu_filtered.loc[emu_filtered['pdg_id']==13]\n",
    "\n",
    "#emu_filtered.shape\n",
    "#emu_elec.shape\n",
    "emu_train = emu_filtered[0:3000]\n",
    "emu_test = emu_filtered[3000:]\n",
    "TRAIN = emu_train.drop(columns=['pdg_id'])\n",
    "TEST = emu_test.drop(columns=['pdg_id'])\n",
    "TRUTH_TRAIN = emu_train['pdg_id']\n",
    "TRUTH_TEST = emu_test['pdg_id']\n",
    "#filtered_emu.tail()\n",
    "#need to filter dataframe to contain only pdg = 13, 11\n",
    "#then need to make this into a emu_train and emu_test to test clf\n"
   ]
  },
  {
   "cell_type": "code",
   "execution_count": 94,
   "metadata": {},
   "outputs": [
    {
     "name": "stdout",
     "output_type": "stream",
     "text": [
      "Training set score (should be very close to 1): 1.000000\n",
      "Test set score (how accurate the model is at classifying mu/e-): 0.993517\n",
      "So using 617 datapoints, we on average have a 0.648298217179899 % error\n"
     ]
    }
   ],
   "source": [
    "clf.fit(TRAIN, TRUTH_TRAIN)\n",
    "#test the model \n",
    "clf.predict(TEST)\n",
    "print(\"Training set score (should be very close to 1): %f\" % clf.score(TRAIN, TRUTH_TRAIN))\n",
    "print(\"Test set score (how accurate the model is at classifying mu/e-): %f\" % clf.score(TEST, TRUTH_TEST))\n",
    "print(f\"So using {emu_test.shape[0]} datapoints, we on average have a {(1-clf.score(TEST,TRUTH_TEST))*100} % error\")"
   ]
  },
  {
   "cell_type": "code",
   "execution_count": null,
   "metadata": {},
   "outputs": [],
   "source": []
  }
 ],
 "metadata": {
  "kernelspec": {
   "display_name": "Python 3 (ipykernel)",
   "language": "python",
   "name": "python3"
  },
  "language_info": {
   "codemirror_mode": {
    "name": "ipython",
    "version": 3
   },
   "file_extension": ".py",
   "mimetype": "text/x-python",
   "name": "python",
   "nbconvert_exporter": "python",
   "pygments_lexer": "ipython3",
   "version": "3.10.6"
  }
 },
 "nbformat": 4,
 "nbformat_minor": 1
}
